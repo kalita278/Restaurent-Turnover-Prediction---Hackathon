{
 "cells": [
  {
   "cell_type": "code",
   "execution_count": 1,
   "id": "026a63e8-300c-401b-aaa1-080676889f99",
   "metadata": {},
   "outputs": [],
   "source": [
    "import numpy as np\n",
    "import pandas as pd"
   ]
  },
  {
   "cell_type": "code",
   "execution_count": 2,
   "id": "89308a02-0ea1-449f-9ad3-f24fd0f7f4a8",
   "metadata": {},
   "outputs": [],
   "source": [
    "df = pd.read_csv('C:/Users/Mrinal Kalita/Python Projects/turnover hackathon/Train_dataset_(2)_(1).csv')\n",
    "test = pd.read_csv('C:/Users/Mrinal Kalita/Python Projects/turnover hackathon/Test_dataset_(2)_(1).csv')"
   ]
  },
  {
   "cell_type": "code",
   "execution_count": 3,
   "id": "e2f8e0ee-9f0b-4f46-bd32-15d2f924ae64",
   "metadata": {},
   "outputs": [
    {
     "data": {
      "text/html": [
       "<div>\n",
       "<style scoped>\n",
       "    .dataframe tbody tr th:only-of-type {\n",
       "        vertical-align: middle;\n",
       "    }\n",
       "\n",
       "    .dataframe tbody tr th {\n",
       "        vertical-align: top;\n",
       "    }\n",
       "\n",
       "    .dataframe thead th {\n",
       "        text-align: right;\n",
       "    }\n",
       "</style>\n",
       "<table border=\"1\" class=\"dataframe\">\n",
       "  <thead>\n",
       "    <tr style=\"text-align: right;\">\n",
       "      <th></th>\n",
       "      <th>Registration Number</th>\n",
       "      <th>Annual Turnover</th>\n",
       "      <th>Cuisine</th>\n",
       "      <th>City</th>\n",
       "      <th>Restaurant Location</th>\n",
       "      <th>Opening Day of Restaurant</th>\n",
       "      <th>Facebook Popularity Quotient</th>\n",
       "      <th>Endorsed By</th>\n",
       "      <th>Instagram Popularity Quotient</th>\n",
       "      <th>Fire Audit</th>\n",
       "      <th>...</th>\n",
       "      <th>Overall Restaurant Rating</th>\n",
       "      <th>Live Music Rating</th>\n",
       "      <th>Comedy Gigs Rating</th>\n",
       "      <th>Value Deals Rating</th>\n",
       "      <th>Live Sports Rating</th>\n",
       "      <th>Ambience</th>\n",
       "      <th>Lively</th>\n",
       "      <th>Service</th>\n",
       "      <th>Comfortablility</th>\n",
       "      <th>Privacy</th>\n",
       "    </tr>\n",
       "  </thead>\n",
       "  <tbody>\n",
       "    <tr>\n",
       "      <th>0</th>\n",
       "      <td>60001</td>\n",
       "      <td>42000000</td>\n",
       "      <td>indian,irish</td>\n",
       "      <td>Bangalore</td>\n",
       "      <td>Near Business Hub</td>\n",
       "      <td>14/02/09</td>\n",
       "      <td>84.3</td>\n",
       "      <td>Not Specific</td>\n",
       "      <td>95.8</td>\n",
       "      <td>1</td>\n",
       "      <td>...</td>\n",
       "      <td>10.0</td>\n",
       "      <td>4.0</td>\n",
       "      <td>NaN</td>\n",
       "      <td>NaN</td>\n",
       "      <td>NaN</td>\n",
       "      <td>8.0</td>\n",
       "      <td>8</td>\n",
       "      <td>6</td>\n",
       "      <td>6</td>\n",
       "      <td>6</td>\n",
       "    </tr>\n",
       "    <tr>\n",
       "      <th>1</th>\n",
       "      <td>60002</td>\n",
       "      <td>50000000</td>\n",
       "      <td>indian,irish</td>\n",
       "      <td>Indore</td>\n",
       "      <td>Near Party Hub</td>\n",
       "      <td>29/09/08</td>\n",
       "      <td>85.4</td>\n",
       "      <td>Tier A Celebrity</td>\n",
       "      <td>85.0</td>\n",
       "      <td>1</td>\n",
       "      <td>...</td>\n",
       "      <td>9.0</td>\n",
       "      <td>NaN</td>\n",
       "      <td>4.0</td>\n",
       "      <td>NaN</td>\n",
       "      <td>NaN</td>\n",
       "      <td>5.0</td>\n",
       "      <td>7</td>\n",
       "      <td>7</td>\n",
       "      <td>3</td>\n",
       "      <td>8</td>\n",
       "    </tr>\n",
       "    <tr>\n",
       "      <th>2</th>\n",
       "      <td>60003</td>\n",
       "      <td>32500000</td>\n",
       "      <td>tibetan,italian</td>\n",
       "      <td>Chennai</td>\n",
       "      <td>Near Business Hub</td>\n",
       "      <td>30/07/11</td>\n",
       "      <td>85.0</td>\n",
       "      <td>Tier A Celebrity</td>\n",
       "      <td>68.2</td>\n",
       "      <td>1</td>\n",
       "      <td>...</td>\n",
       "      <td>8.0</td>\n",
       "      <td>3.0</td>\n",
       "      <td>NaN</td>\n",
       "      <td>NaN</td>\n",
       "      <td>NaN</td>\n",
       "      <td>7.0</td>\n",
       "      <td>10</td>\n",
       "      <td>5</td>\n",
       "      <td>2</td>\n",
       "      <td>8</td>\n",
       "    </tr>\n",
       "    <tr>\n",
       "      <th>3</th>\n",
       "      <td>60004</td>\n",
       "      <td>110000000</td>\n",
       "      <td>turkish,nigerian</td>\n",
       "      <td>Gurgaon</td>\n",
       "      <td>Near Party Hub</td>\n",
       "      <td>30/11/08</td>\n",
       "      <td>85.6</td>\n",
       "      <td>Tier A Celebrity</td>\n",
       "      <td>83.6</td>\n",
       "      <td>0</td>\n",
       "      <td>...</td>\n",
       "      <td>9.0</td>\n",
       "      <td>6.0</td>\n",
       "      <td>NaN</td>\n",
       "      <td>NaN</td>\n",
       "      <td>NaN</td>\n",
       "      <td>7.0</td>\n",
       "      <td>7</td>\n",
       "      <td>4</td>\n",
       "      <td>3</td>\n",
       "      <td>5</td>\n",
       "    </tr>\n",
       "    <tr>\n",
       "      <th>4</th>\n",
       "      <td>60005</td>\n",
       "      <td>20000000</td>\n",
       "      <td>irish,belgian</td>\n",
       "      <td>Manesar</td>\n",
       "      <td>Near Party Hub</td>\n",
       "      <td>22/02/10</td>\n",
       "      <td>NaN</td>\n",
       "      <td>Tier A Celebrity</td>\n",
       "      <td>76.8</td>\n",
       "      <td>1</td>\n",
       "      <td>...</td>\n",
       "      <td>6.0</td>\n",
       "      <td>NaN</td>\n",
       "      <td>2.0</td>\n",
       "      <td>NaN</td>\n",
       "      <td>NaN</td>\n",
       "      <td>NaN</td>\n",
       "      <td>6</td>\n",
       "      <td>2</td>\n",
       "      <td>4</td>\n",
       "      <td>6</td>\n",
       "    </tr>\n",
       "  </tbody>\n",
       "</table>\n",
       "<p>5 rows × 34 columns</p>\n",
       "</div>"
      ],
      "text/plain": [
       "   Registration Number  Annual Turnover           Cuisine       City  \\\n",
       "0                60001         42000000      indian,irish  Bangalore   \n",
       "1                60002         50000000      indian,irish     Indore   \n",
       "2                60003         32500000   tibetan,italian    Chennai   \n",
       "3                60004        110000000  turkish,nigerian    Gurgaon   \n",
       "4                60005         20000000     irish,belgian    Manesar   \n",
       "\n",
       "  Restaurant Location Opening Day of Restaurant  Facebook Popularity Quotient  \\\n",
       "0   Near Business Hub                  14/02/09                          84.3   \n",
       "1      Near Party Hub                  29/09/08                          85.4   \n",
       "2   Near Business Hub                  30/07/11                          85.0   \n",
       "3      Near Party Hub                  30/11/08                          85.6   \n",
       "4      Near Party Hub                  22/02/10                           NaN   \n",
       "\n",
       "        Endorsed By  Instagram Popularity Quotient  Fire Audit  ...  \\\n",
       "0      Not Specific                           95.8           1  ...   \n",
       "1  Tier A Celebrity                           85.0           1  ...   \n",
       "2  Tier A Celebrity                           68.2           1  ...   \n",
       "3  Tier A Celebrity                           83.6           0  ...   \n",
       "4  Tier A Celebrity                           76.8           1  ...   \n",
       "\n",
       "   Overall Restaurant Rating  Live Music Rating  Comedy Gigs Rating  \\\n",
       "0                       10.0                4.0                 NaN   \n",
       "1                        9.0                NaN                 4.0   \n",
       "2                        8.0                3.0                 NaN   \n",
       "3                        9.0                6.0                 NaN   \n",
       "4                        6.0                NaN                 2.0   \n",
       "\n",
       "   Value Deals Rating  Live Sports Rating Ambience Lively  Service  \\\n",
       "0                 NaN                 NaN      8.0      8        6   \n",
       "1                 NaN                 NaN      5.0      7        7   \n",
       "2                 NaN                 NaN      7.0     10        5   \n",
       "3                 NaN                 NaN      7.0      7        4   \n",
       "4                 NaN                 NaN      NaN      6        2   \n",
       "\n",
       "   Comfortablility  Privacy  \n",
       "0                6        6  \n",
       "1                3        8  \n",
       "2                2        8  \n",
       "3                3        5  \n",
       "4                4        6  \n",
       "\n",
       "[5 rows x 34 columns]"
      ]
     },
     "execution_count": 3,
     "metadata": {},
     "output_type": "execute_result"
    }
   ],
   "source": [
    "df.head()"
   ]
  },
  {
   "cell_type": "code",
   "execution_count": 4,
   "id": "d94fc474-bca6-461a-bd04-bbfeef8c024b",
   "metadata": {},
   "outputs": [
    {
     "data": {
      "text/plain": [
       "(3493, 34)"
      ]
     },
     "execution_count": 4,
     "metadata": {},
     "output_type": "execute_result"
    }
   ],
   "source": [
    "df.shape"
   ]
  },
  {
   "cell_type": "markdown",
   "id": "52248e71-e127-4e33-987c-39de6b31048c",
   "metadata": {},
   "source": [
    "# Data Cleaning and Data Preprocessing"
   ]
  },
  {
   "cell_type": "code",
   "execution_count": 5,
   "id": "c71cca56-5fe1-4f43-9aa5-0a4562ae0424",
   "metadata": {},
   "outputs": [],
   "source": [
    "#Dropping registration number, city, day of openning columns\n",
    "df = df.drop(['Registration Number','City','Opening Day of Restaurant'],axis=1)\n",
    "test_df = test.drop(['Registration Number','City','Opening Day of Restaurant'],axis=1)"
   ]
  },
  {
   "cell_type": "code",
   "execution_count": 6,
   "id": "4504ecfb-29d5-425e-b16f-27c3c22aba93",
   "metadata": {},
   "outputs": [
    {
     "data": {
      "text/html": [
       "<div>\n",
       "<style scoped>\n",
       "    .dataframe tbody tr th:only-of-type {\n",
       "        vertical-align: middle;\n",
       "    }\n",
       "\n",
       "    .dataframe tbody tr th {\n",
       "        vertical-align: top;\n",
       "    }\n",
       "\n",
       "    .dataframe thead th {\n",
       "        text-align: right;\n",
       "    }\n",
       "</style>\n",
       "<table border=\"1\" class=\"dataframe\">\n",
       "  <thead>\n",
       "    <tr style=\"text-align: right;\">\n",
       "      <th></th>\n",
       "      <th>Annual Turnover</th>\n",
       "      <th>Cuisine</th>\n",
       "      <th>Restaurant Location</th>\n",
       "      <th>Facebook Popularity Quotient</th>\n",
       "      <th>Endorsed By</th>\n",
       "      <th>Instagram Popularity Quotient</th>\n",
       "      <th>Fire Audit</th>\n",
       "      <th>Liquor License Obtained</th>\n",
       "      <th>Situated in a Multi Complex</th>\n",
       "      <th>Dedicated Parking</th>\n",
       "      <th>...</th>\n",
       "      <th>Overall Restaurant Rating</th>\n",
       "      <th>Live Music Rating</th>\n",
       "      <th>Comedy Gigs Rating</th>\n",
       "      <th>Value Deals Rating</th>\n",
       "      <th>Live Sports Rating</th>\n",
       "      <th>Ambience</th>\n",
       "      <th>Lively</th>\n",
       "      <th>Service</th>\n",
       "      <th>Comfortablility</th>\n",
       "      <th>Privacy</th>\n",
       "    </tr>\n",
       "  </thead>\n",
       "  <tbody>\n",
       "    <tr>\n",
       "      <th>0</th>\n",
       "      <td>42000000</td>\n",
       "      <td>indian,irish</td>\n",
       "      <td>Near Business Hub</td>\n",
       "      <td>84.3</td>\n",
       "      <td>Not Specific</td>\n",
       "      <td>95.8</td>\n",
       "      <td>1</td>\n",
       "      <td>1</td>\n",
       "      <td>1</td>\n",
       "      <td>0</td>\n",
       "      <td>...</td>\n",
       "      <td>10.0</td>\n",
       "      <td>4.0</td>\n",
       "      <td>NaN</td>\n",
       "      <td>NaN</td>\n",
       "      <td>NaN</td>\n",
       "      <td>8.0</td>\n",
       "      <td>8</td>\n",
       "      <td>6</td>\n",
       "      <td>6</td>\n",
       "      <td>6</td>\n",
       "    </tr>\n",
       "    <tr>\n",
       "      <th>1</th>\n",
       "      <td>50000000</td>\n",
       "      <td>indian,irish</td>\n",
       "      <td>Near Party Hub</td>\n",
       "      <td>85.4</td>\n",
       "      <td>Tier A Celebrity</td>\n",
       "      <td>85.0</td>\n",
       "      <td>1</td>\n",
       "      <td>1</td>\n",
       "      <td>1</td>\n",
       "      <td>1</td>\n",
       "      <td>...</td>\n",
       "      <td>9.0</td>\n",
       "      <td>NaN</td>\n",
       "      <td>4.0</td>\n",
       "      <td>NaN</td>\n",
       "      <td>NaN</td>\n",
       "      <td>5.0</td>\n",
       "      <td>7</td>\n",
       "      <td>7</td>\n",
       "      <td>3</td>\n",
       "      <td>8</td>\n",
       "    </tr>\n",
       "    <tr>\n",
       "      <th>2</th>\n",
       "      <td>32500000</td>\n",
       "      <td>tibetan,italian</td>\n",
       "      <td>Near Business Hub</td>\n",
       "      <td>85.0</td>\n",
       "      <td>Tier A Celebrity</td>\n",
       "      <td>68.2</td>\n",
       "      <td>1</td>\n",
       "      <td>1</td>\n",
       "      <td>1</td>\n",
       "      <td>1</td>\n",
       "      <td>...</td>\n",
       "      <td>8.0</td>\n",
       "      <td>3.0</td>\n",
       "      <td>NaN</td>\n",
       "      <td>NaN</td>\n",
       "      <td>NaN</td>\n",
       "      <td>7.0</td>\n",
       "      <td>10</td>\n",
       "      <td>5</td>\n",
       "      <td>2</td>\n",
       "      <td>8</td>\n",
       "    </tr>\n",
       "    <tr>\n",
       "      <th>3</th>\n",
       "      <td>110000000</td>\n",
       "      <td>turkish,nigerian</td>\n",
       "      <td>Near Party Hub</td>\n",
       "      <td>85.6</td>\n",
       "      <td>Tier A Celebrity</td>\n",
       "      <td>83.6</td>\n",
       "      <td>0</td>\n",
       "      <td>1</td>\n",
       "      <td>1</td>\n",
       "      <td>1</td>\n",
       "      <td>...</td>\n",
       "      <td>9.0</td>\n",
       "      <td>6.0</td>\n",
       "      <td>NaN</td>\n",
       "      <td>NaN</td>\n",
       "      <td>NaN</td>\n",
       "      <td>7.0</td>\n",
       "      <td>7</td>\n",
       "      <td>4</td>\n",
       "      <td>3</td>\n",
       "      <td>5</td>\n",
       "    </tr>\n",
       "    <tr>\n",
       "      <th>4</th>\n",
       "      <td>20000000</td>\n",
       "      <td>irish,belgian</td>\n",
       "      <td>Near Party Hub</td>\n",
       "      <td>NaN</td>\n",
       "      <td>Tier A Celebrity</td>\n",
       "      <td>76.8</td>\n",
       "      <td>1</td>\n",
       "      <td>1</td>\n",
       "      <td>1</td>\n",
       "      <td>1</td>\n",
       "      <td>...</td>\n",
       "      <td>6.0</td>\n",
       "      <td>NaN</td>\n",
       "      <td>2.0</td>\n",
       "      <td>NaN</td>\n",
       "      <td>NaN</td>\n",
       "      <td>NaN</td>\n",
       "      <td>6</td>\n",
       "      <td>2</td>\n",
       "      <td>4</td>\n",
       "      <td>6</td>\n",
       "    </tr>\n",
       "  </tbody>\n",
       "</table>\n",
       "<p>5 rows × 31 columns</p>\n",
       "</div>"
      ],
      "text/plain": [
       "   Annual Turnover           Cuisine Restaurant Location  \\\n",
       "0         42000000      indian,irish   Near Business Hub   \n",
       "1         50000000      indian,irish      Near Party Hub   \n",
       "2         32500000   tibetan,italian   Near Business Hub   \n",
       "3        110000000  turkish,nigerian      Near Party Hub   \n",
       "4         20000000     irish,belgian      Near Party Hub   \n",
       "\n",
       "   Facebook Popularity Quotient       Endorsed By  \\\n",
       "0                          84.3      Not Specific   \n",
       "1                          85.4  Tier A Celebrity   \n",
       "2                          85.0  Tier A Celebrity   \n",
       "3                          85.6  Tier A Celebrity   \n",
       "4                           NaN  Tier A Celebrity   \n",
       "\n",
       "   Instagram Popularity Quotient  Fire Audit  Liquor License Obtained  \\\n",
       "0                           95.8           1                        1   \n",
       "1                           85.0           1                        1   \n",
       "2                           68.2           1                        1   \n",
       "3                           83.6           0                        1   \n",
       "4                           76.8           1                        1   \n",
       "\n",
       "   Situated in a Multi Complex  Dedicated Parking  ...  \\\n",
       "0                            1                  0  ...   \n",
       "1                            1                  1  ...   \n",
       "2                            1                  1  ...   \n",
       "3                            1                  1  ...   \n",
       "4                            1                  1  ...   \n",
       "\n",
       "   Overall Restaurant Rating  Live Music Rating Comedy Gigs Rating  \\\n",
       "0                       10.0                4.0                NaN   \n",
       "1                        9.0                NaN                4.0   \n",
       "2                        8.0                3.0                NaN   \n",
       "3                        9.0                6.0                NaN   \n",
       "4                        6.0                NaN                2.0   \n",
       "\n",
       "  Value Deals Rating  Live Sports Rating  Ambience  Lively  Service  \\\n",
       "0                NaN                 NaN       8.0       8        6   \n",
       "1                NaN                 NaN       5.0       7        7   \n",
       "2                NaN                 NaN       7.0      10        5   \n",
       "3                NaN                 NaN       7.0       7        4   \n",
       "4                NaN                 NaN       NaN       6        2   \n",
       "\n",
       "   Comfortablility  Privacy  \n",
       "0                6        6  \n",
       "1                3        8  \n",
       "2                2        8  \n",
       "3                3        5  \n",
       "4                4        6  \n",
       "\n",
       "[5 rows x 31 columns]"
      ]
     },
     "execution_count": 6,
     "metadata": {},
     "output_type": "execute_result"
    }
   ],
   "source": [
    "df.head()"
   ]
  },
  {
   "cell_type": "code",
   "execution_count": 7,
   "id": "1011a7db-0386-4975-a120-e400402da03b",
   "metadata": {},
   "outputs": [
    {
     "data": {
      "text/plain": [
       "0"
      ]
     },
     "execution_count": 7,
     "metadata": {},
     "output_type": "execute_result"
    }
   ],
   "source": [
    "#Checking duplicate Value\n",
    "df.duplicated().sum()"
   ]
  },
  {
   "cell_type": "code",
   "execution_count": 8,
   "id": "48d9653a-b4b9-41c9-8cbc-f033a1e9cc93",
   "metadata": {},
   "outputs": [
    {
     "data": {
      "text/plain": [
       "Annual Turnover                     0\n",
       "Cuisine                             0\n",
       "Restaurant Location                 0\n",
       "Facebook Popularity Quotient       99\n",
       "Endorsed By                         0\n",
       "Instagram Popularity Quotient      56\n",
       "Fire Audit                          0\n",
       "Liquor License Obtained             0\n",
       "Situated in a Multi Complex         0\n",
       "Dedicated Parking                   0\n",
       "Open Sitting Available              0\n",
       "Resturant Tier                     49\n",
       "Restaurant Type                     0\n",
       "Restaurant Theme                    0\n",
       "Restaurant Zomato Rating            0\n",
       "Restaurant City Tier                0\n",
       "Order Wait Time                     0\n",
       "Staff Responsivness                 0\n",
       "Value for Money                     0\n",
       "Hygiene Rating                      0\n",
       "Food Rating                         0\n",
       "Overall Restaurant Rating         212\n",
       "Live Music Rating                 765\n",
       "Comedy Gigs Rating               2483\n",
       "Value Deals Rating               2707\n",
       "Live Sports Rating               3288\n",
       "Ambience                           25\n",
       "Lively                              0\n",
       "Service                             0\n",
       "Comfortablility                     0\n",
       "Privacy                             0\n",
       "dtype: int64"
      ]
     },
     "execution_count": 8,
     "metadata": {},
     "output_type": "execute_result"
    }
   ],
   "source": [
    "#Checking missing values\n",
    "df.isnull().sum()"
   ]
  },
  {
   "cell_type": "code",
   "execution_count": 9,
   "id": "7d221875-8d43-487d-a8b5-407410b7bfee",
   "metadata": {},
   "outputs": [],
   "source": [
    "df['Live Music Rating'] = df['Live Music Rating'].fillna(0)\n",
    "df['Comedy Gigs Rating'] = df['Comedy Gigs Rating'].fillna(0)\n",
    "df['Value Deals Rating'] = df['Value Deals Rating'].fillna(0)\n",
    "df['Live Sports Rating'] = df['Live Sports Rating'].fillna(0)\n",
    "df['Facebook Popularity Quotient'] = df['Facebook Popularity Quotient'].fillna(df['Facebook Popularity Quotient'].mean())\n",
    "df['Instagram Popularity Quotient'] = df['Instagram Popularity Quotient'].fillna(df['Instagram Popularity Quotient'].mean())\n",
    "df['Resturant Tier'] = df['Resturant Tier'].fillna(df['Resturant Tier'].mode()[0])\n",
    "df['Overall Restaurant Rating'] = df['Overall Restaurant Rating'].fillna(df['Overall Restaurant Rating'].mode()[0])\n",
    "df['Ambience'] = df['Ambience'].fillna(df['Ambience'].mode()[0])"
   ]
  },
  {
   "cell_type": "code",
   "execution_count": 10,
   "id": "d59edfd6-bc4e-452f-9b96-03800d571f5f",
   "metadata": {},
   "outputs": [],
   "source": [
    "test_df['Live Music Rating'] = test_df['Live Music Rating'].fillna(0)\n",
    "test_df['Comedy Gigs Rating'] = test_df['Comedy Gigs Rating'].fillna(0)\n",
    "test_df['Value Deals Rating'] = test_df['Value Deals Rating'].fillna(0)\n",
    "test_df['Live Sports Rating'] = test_df['Live Sports Rating'].fillna(0)\n",
    "test_df['Overall Restaurant Rating'] = test_df['Overall Restaurant Rating'].fillna(test_df['Overall Restaurant Rating'].mode()[0])"
   ]
  },
  {
   "cell_type": "code",
   "execution_count": 11,
   "id": "48ad0b38-c481-4f0d-b1fc-72b3c3f878de",
   "metadata": {},
   "outputs": [
    {
     "data": {
      "text/plain": [
       "Annual Turnover                  0\n",
       "Cuisine                          0\n",
       "Restaurant Location              0\n",
       "Facebook Popularity Quotient     0\n",
       "Endorsed By                      0\n",
       "Instagram Popularity Quotient    0\n",
       "Fire Audit                       0\n",
       "Liquor License Obtained          0\n",
       "Situated in a Multi Complex      0\n",
       "Dedicated Parking                0\n",
       "Open Sitting Available           0\n",
       "Resturant Tier                   0\n",
       "Restaurant Type                  0\n",
       "Restaurant Theme                 0\n",
       "Restaurant Zomato Rating         0\n",
       "Restaurant City Tier             0\n",
       "Order Wait Time                  0\n",
       "Staff Responsivness              0\n",
       "Value for Money                  0\n",
       "Hygiene Rating                   0\n",
       "Food Rating                      0\n",
       "Overall Restaurant Rating        0\n",
       "Live Music Rating                0\n",
       "Comedy Gigs Rating               0\n",
       "Value Deals Rating               0\n",
       "Live Sports Rating               0\n",
       "Ambience                         0\n",
       "Lively                           0\n",
       "Service                          0\n",
       "Comfortablility                  0\n",
       "Privacy                          0\n",
       "dtype: int64"
      ]
     },
     "execution_count": 11,
     "metadata": {},
     "output_type": "execute_result"
    }
   ],
   "source": [
    "df.isnull().sum()"
   ]
  },
  {
   "cell_type": "code",
   "execution_count": 12,
   "id": "3e055512-9268-4d7b-ae73-b64affce93d8",
   "metadata": {},
   "outputs": [
    {
     "data": {
      "text/html": [
       "<div>\n",
       "<style scoped>\n",
       "    .dataframe tbody tr th:only-of-type {\n",
       "        vertical-align: middle;\n",
       "    }\n",
       "\n",
       "    .dataframe tbody tr th {\n",
       "        vertical-align: top;\n",
       "    }\n",
       "\n",
       "    .dataframe thead th {\n",
       "        text-align: right;\n",
       "    }\n",
       "</style>\n",
       "<table border=\"1\" class=\"dataframe\">\n",
       "  <thead>\n",
       "    <tr style=\"text-align: right;\">\n",
       "      <th></th>\n",
       "      <th>Annual Turnover</th>\n",
       "      <th>Cuisine</th>\n",
       "      <th>Restaurant Location</th>\n",
       "      <th>Facebook Popularity Quotient</th>\n",
       "      <th>Endorsed By</th>\n",
       "      <th>Instagram Popularity Quotient</th>\n",
       "      <th>Fire Audit</th>\n",
       "      <th>Liquor License Obtained</th>\n",
       "      <th>Situated in a Multi Complex</th>\n",
       "      <th>Dedicated Parking</th>\n",
       "      <th>...</th>\n",
       "      <th>Overall Restaurant Rating</th>\n",
       "      <th>Live Music Rating</th>\n",
       "      <th>Comedy Gigs Rating</th>\n",
       "      <th>Value Deals Rating</th>\n",
       "      <th>Live Sports Rating</th>\n",
       "      <th>Ambience</th>\n",
       "      <th>Lively</th>\n",
       "      <th>Service</th>\n",
       "      <th>Comfortablility</th>\n",
       "      <th>Privacy</th>\n",
       "    </tr>\n",
       "  </thead>\n",
       "  <tbody>\n",
       "    <tr>\n",
       "      <th>0</th>\n",
       "      <td>42000000</td>\n",
       "      <td>indian,irish</td>\n",
       "      <td>Near Business Hub</td>\n",
       "      <td>84.300000</td>\n",
       "      <td>Not Specific</td>\n",
       "      <td>95.8</td>\n",
       "      <td>1</td>\n",
       "      <td>1</td>\n",
       "      <td>1</td>\n",
       "      <td>0</td>\n",
       "      <td>...</td>\n",
       "      <td>10.0</td>\n",
       "      <td>4.0</td>\n",
       "      <td>0.0</td>\n",
       "      <td>0.0</td>\n",
       "      <td>0.0</td>\n",
       "      <td>8.0</td>\n",
       "      <td>8</td>\n",
       "      <td>6</td>\n",
       "      <td>6</td>\n",
       "      <td>6</td>\n",
       "    </tr>\n",
       "    <tr>\n",
       "      <th>1</th>\n",
       "      <td>50000000</td>\n",
       "      <td>indian,irish</td>\n",
       "      <td>Near Party Hub</td>\n",
       "      <td>85.400000</td>\n",
       "      <td>Tier A Celebrity</td>\n",
       "      <td>85.0</td>\n",
       "      <td>1</td>\n",
       "      <td>1</td>\n",
       "      <td>1</td>\n",
       "      <td>1</td>\n",
       "      <td>...</td>\n",
       "      <td>9.0</td>\n",
       "      <td>0.0</td>\n",
       "      <td>4.0</td>\n",
       "      <td>0.0</td>\n",
       "      <td>0.0</td>\n",
       "      <td>5.0</td>\n",
       "      <td>7</td>\n",
       "      <td>7</td>\n",
       "      <td>3</td>\n",
       "      <td>8</td>\n",
       "    </tr>\n",
       "    <tr>\n",
       "      <th>2</th>\n",
       "      <td>32500000</td>\n",
       "      <td>tibetan,italian</td>\n",
       "      <td>Near Business Hub</td>\n",
       "      <td>85.000000</td>\n",
       "      <td>Tier A Celebrity</td>\n",
       "      <td>68.2</td>\n",
       "      <td>1</td>\n",
       "      <td>1</td>\n",
       "      <td>1</td>\n",
       "      <td>1</td>\n",
       "      <td>...</td>\n",
       "      <td>8.0</td>\n",
       "      <td>3.0</td>\n",
       "      <td>0.0</td>\n",
       "      <td>0.0</td>\n",
       "      <td>0.0</td>\n",
       "      <td>7.0</td>\n",
       "      <td>10</td>\n",
       "      <td>5</td>\n",
       "      <td>2</td>\n",
       "      <td>8</td>\n",
       "    </tr>\n",
       "    <tr>\n",
       "      <th>3</th>\n",
       "      <td>110000000</td>\n",
       "      <td>turkish,nigerian</td>\n",
       "      <td>Near Party Hub</td>\n",
       "      <td>85.600000</td>\n",
       "      <td>Tier A Celebrity</td>\n",
       "      <td>83.6</td>\n",
       "      <td>0</td>\n",
       "      <td>1</td>\n",
       "      <td>1</td>\n",
       "      <td>1</td>\n",
       "      <td>...</td>\n",
       "      <td>9.0</td>\n",
       "      <td>6.0</td>\n",
       "      <td>0.0</td>\n",
       "      <td>0.0</td>\n",
       "      <td>0.0</td>\n",
       "      <td>7.0</td>\n",
       "      <td>7</td>\n",
       "      <td>4</td>\n",
       "      <td>3</td>\n",
       "      <td>5</td>\n",
       "    </tr>\n",
       "    <tr>\n",
       "      <th>4</th>\n",
       "      <td>20000000</td>\n",
       "      <td>irish,belgian</td>\n",
       "      <td>Near Party Hub</td>\n",
       "      <td>77.938715</td>\n",
       "      <td>Tier A Celebrity</td>\n",
       "      <td>76.8</td>\n",
       "      <td>1</td>\n",
       "      <td>1</td>\n",
       "      <td>1</td>\n",
       "      <td>1</td>\n",
       "      <td>...</td>\n",
       "      <td>6.0</td>\n",
       "      <td>0.0</td>\n",
       "      <td>2.0</td>\n",
       "      <td>0.0</td>\n",
       "      <td>0.0</td>\n",
       "      <td>6.0</td>\n",
       "      <td>6</td>\n",
       "      <td>2</td>\n",
       "      <td>4</td>\n",
       "      <td>6</td>\n",
       "    </tr>\n",
       "  </tbody>\n",
       "</table>\n",
       "<p>5 rows × 31 columns</p>\n",
       "</div>"
      ],
      "text/plain": [
       "   Annual Turnover           Cuisine Restaurant Location  \\\n",
       "0         42000000      indian,irish   Near Business Hub   \n",
       "1         50000000      indian,irish      Near Party Hub   \n",
       "2         32500000   tibetan,italian   Near Business Hub   \n",
       "3        110000000  turkish,nigerian      Near Party Hub   \n",
       "4         20000000     irish,belgian      Near Party Hub   \n",
       "\n",
       "   Facebook Popularity Quotient       Endorsed By  \\\n",
       "0                     84.300000      Not Specific   \n",
       "1                     85.400000  Tier A Celebrity   \n",
       "2                     85.000000  Tier A Celebrity   \n",
       "3                     85.600000  Tier A Celebrity   \n",
       "4                     77.938715  Tier A Celebrity   \n",
       "\n",
       "   Instagram Popularity Quotient  Fire Audit  Liquor License Obtained  \\\n",
       "0                           95.8           1                        1   \n",
       "1                           85.0           1                        1   \n",
       "2                           68.2           1                        1   \n",
       "3                           83.6           0                        1   \n",
       "4                           76.8           1                        1   \n",
       "\n",
       "   Situated in a Multi Complex  Dedicated Parking  ...  \\\n",
       "0                            1                  0  ...   \n",
       "1                            1                  1  ...   \n",
       "2                            1                  1  ...   \n",
       "3                            1                  1  ...   \n",
       "4                            1                  1  ...   \n",
       "\n",
       "   Overall Restaurant Rating  Live Music Rating Comedy Gigs Rating  \\\n",
       "0                       10.0                4.0                0.0   \n",
       "1                        9.0                0.0                4.0   \n",
       "2                        8.0                3.0                0.0   \n",
       "3                        9.0                6.0                0.0   \n",
       "4                        6.0                0.0                2.0   \n",
       "\n",
       "  Value Deals Rating  Live Sports Rating  Ambience  Lively  Service  \\\n",
       "0                0.0                 0.0       8.0       8        6   \n",
       "1                0.0                 0.0       5.0       7        7   \n",
       "2                0.0                 0.0       7.0      10        5   \n",
       "3                0.0                 0.0       7.0       7        4   \n",
       "4                0.0                 0.0       6.0       6        2   \n",
       "\n",
       "   Comfortablility  Privacy  \n",
       "0                6        6  \n",
       "1                3        8  \n",
       "2                2        8  \n",
       "3                3        5  \n",
       "4                4        6  \n",
       "\n",
       "[5 rows x 31 columns]"
      ]
     },
     "execution_count": 12,
     "metadata": {},
     "output_type": "execute_result"
    }
   ],
   "source": [
    "df.head()"
   ]
  },
  {
   "cell_type": "code",
   "execution_count": 13,
   "id": "cb4a3e68-43af-43fb-8e6a-8a1044f743aa",
   "metadata": {},
   "outputs": [],
   "source": [
    "df['Restaurant Location'] = df['Restaurant Location'].replace({'Near Party Hub':0, 'Near Business Hub':1})\n",
    "test_df['Restaurant Location'] = test_df['Restaurant Location'].replace({'Near Party Hub':0, 'Near Business Hub':1})"
   ]
  },
  {
   "cell_type": "code",
   "execution_count": 14,
   "id": "7335868a-5cd6-44e4-a607-a2f1672b8858",
   "metadata": {},
   "outputs": [
    {
     "data": {
      "text/plain": [
       "0    2658\n",
       "1     835\n",
       "Name: Restaurant Location, dtype: int64"
      ]
     },
     "execution_count": 14,
     "metadata": {},
     "output_type": "execute_result"
    }
   ],
   "source": [
    "df['Restaurant Location'].value_counts()"
   ]
  },
  {
   "cell_type": "code",
   "execution_count": 15,
   "id": "a15be330-d378-4d29-9b19-302b60c3d7f5",
   "metadata": {},
   "outputs": [
    {
     "data": {
      "text/plain": [
       "Not Specific        1961\n",
       "Tier A Celebrity    1500\n",
       "Local Celebrity       32\n",
       "Name: Endorsed By, dtype: int64"
      ]
     },
     "execution_count": 15,
     "metadata": {},
     "output_type": "execute_result"
    }
   ],
   "source": [
    "df['Endorsed By'].value_counts()"
   ]
  },
  {
   "cell_type": "code",
   "execution_count": 16,
   "id": "ea524d6d-d869-4d65-b889-ce6b9ba78e40",
   "metadata": {},
   "outputs": [],
   "source": [
    "df['Endorsed By'] = df['Endorsed By'].replace({'Not Specific':0, 'Local Celebrity':1,'Tier A Celebrity':2})\n",
    "test_df['Endoresed By'] = test_df['Endoresed By'].replace({'Not Specific':0, 'Local Celebrity':1,'Tier A Celebrity':2})\n",
    "test_df =test_df.rename(columns={'Endoresed By':'Endorsed By'})"
   ]
  },
  {
   "cell_type": "code",
   "execution_count": 17,
   "id": "25469697-8328-48db-ac4d-9c7ff3ed7151",
   "metadata": {},
   "outputs": [
    {
     "data": {
      "text/plain": [
       "0    1961\n",
       "2    1500\n",
       "1      32\n",
       "Name: Endorsed By, dtype: int64"
      ]
     },
     "execution_count": 17,
     "metadata": {},
     "output_type": "execute_result"
    }
   ],
   "source": [
    "df['Endorsed By'].value_counts()"
   ]
  },
  {
   "cell_type": "code",
   "execution_count": 18,
   "id": "9190380c-ba7b-478f-9d41-ef55c939e1ba",
   "metadata": {},
   "outputs": [
    {
     "data": {
      "text/plain": [
       "1    2755\n",
       "0     738\n",
       "Name: Fire Audit, dtype: int64"
      ]
     },
     "execution_count": 18,
     "metadata": {},
     "output_type": "execute_result"
    }
   ],
   "source": [
    "df['Fire Audit'].value_counts()"
   ]
  },
  {
   "cell_type": "code",
   "execution_count": 19,
   "id": "6e03e773-324a-444c-b70b-1e6a51aabc3e",
   "metadata": {},
   "outputs": [
    {
     "data": {
      "text/plain": [
       "1    3452\n",
       "0      41\n",
       "Name: Liquor License Obtained, dtype: int64"
      ]
     },
     "execution_count": 19,
     "metadata": {},
     "output_type": "execute_result"
    }
   ],
   "source": [
    "df['Liquor License Obtained'].value_counts()"
   ]
  },
  {
   "cell_type": "code",
   "execution_count": 20,
   "id": "0e67397d-24b3-4512-a2b5-f6ff643efacc",
   "metadata": {},
   "outputs": [
    {
     "data": {
      "text/plain": [
       "1    2823\n",
       "0     670\n",
       "Name: Situated in a Multi Complex, dtype: int64"
      ]
     },
     "execution_count": 20,
     "metadata": {},
     "output_type": "execute_result"
    }
   ],
   "source": [
    "df['Situated in a Multi Complex'].value_counts()"
   ]
  },
  {
   "cell_type": "code",
   "execution_count": 21,
   "id": "b9d34ef1-cf9a-45e5-ac0e-eeb86719ff67",
   "metadata": {},
   "outputs": [
    {
     "data": {
      "text/plain": [
       "1    2801\n",
       "0     692\n",
       "Name: Dedicated Parking, dtype: int64"
      ]
     },
     "execution_count": 21,
     "metadata": {},
     "output_type": "execute_result"
    }
   ],
   "source": [
    "df['Dedicated Parking'].value_counts()"
   ]
  },
  {
   "cell_type": "code",
   "execution_count": 22,
   "id": "8ba7f938-1918-4e91-96ec-a03ce7b3e1c3",
   "metadata": {},
   "outputs": [
    {
     "data": {
      "text/plain": [
       "1    2795\n",
       "0     698\n",
       "Name: Open Sitting Available, dtype: int64"
      ]
     },
     "execution_count": 22,
     "metadata": {},
     "output_type": "execute_result"
    }
   ],
   "source": [
    "df['Open Sitting Available'].value_counts()"
   ]
  },
  {
   "cell_type": "code",
   "execution_count": 23,
   "id": "2e31af23-0d03-468e-8a6b-b024e09c46e5",
   "metadata": {},
   "outputs": [
    {
     "data": {
      "text/plain": [
       "2.0    3240\n",
       "1.0     253\n",
       "Name: Resturant Tier, dtype: int64"
      ]
     },
     "execution_count": 23,
     "metadata": {},
     "output_type": "execute_result"
    }
   ],
   "source": [
    "df['Resturant Tier'].value_counts()"
   ]
  },
  {
   "cell_type": "code",
   "execution_count": 24,
   "id": "e3dc288b-c3b6-4bd9-a0a3-1d5b214996bd",
   "metadata": {},
   "outputs": [
    {
     "data": {
      "text/plain": [
       "Bar                         3235\n",
       "Caffee                       212\n",
       "Gastro Bar                    45\n",
       "Buffet/Family Restaurant       1\n",
       "Name: Restaurant Type, dtype: int64"
      ]
     },
     "execution_count": 24,
     "metadata": {},
     "output_type": "execute_result"
    }
   ],
   "source": [
    "df['Restaurant Type'].value_counts()"
   ]
  },
  {
   "cell_type": "code",
   "execution_count": 25,
   "id": "f0286fe3-8cd7-4114-a031-06e7fd9ad1b5",
   "metadata": {},
   "outputs": [],
   "source": [
    "df['Restaurant Type'] = df['Restaurant Type'].replace({'Bar':0, 'Caffee':1,'Gastro Bar':2,'Buffet/Family Restaurant':3})\n",
    "test_df['Restaurant Type'] = test_df['Restaurant Type'].replace({'Bar':0, 'Caffee':1,'Gastro Bar':2,'Buffet/Family Restaurant':3})"
   ]
  },
  {
   "cell_type": "code",
   "execution_count": 26,
   "id": "65e2c812-134c-4f24-9e3e-a572e220be33",
   "metadata": {},
   "outputs": [
    {
     "data": {
      "text/plain": [
       "3    1654\n",
       "2    1228\n",
       "4     417\n",
       "1     143\n",
       "5      38\n",
       "0      13\n",
       "Name: Restaurant Zomato Rating, dtype: int64"
      ]
     },
     "execution_count": 26,
     "metadata": {},
     "output_type": "execute_result"
    }
   ],
   "source": [
    "df['Restaurant Zomato Rating'].value_counts()"
   ]
  },
  {
   "cell_type": "code",
   "execution_count": 27,
   "id": "cd48db75-f7b9-4a1a-ae5b-7dbf7d0da6f1",
   "metadata": {},
   "outputs": [
    {
     "data": {
      "text/plain": [
       "0    2440\n",
       "1    1053\n",
       "Name: Restaurant City Tier, dtype: int64"
      ]
     },
     "execution_count": 27,
     "metadata": {},
     "output_type": "execute_result"
    }
   ],
   "source": [
    "df['Restaurant City Tier'].value_counts()"
   ]
  },
  {
   "cell_type": "code",
   "execution_count": 28,
   "id": "88e2e4a5-4a3a-45f0-8a0b-36cc5201f64d",
   "metadata": {},
   "outputs": [
    {
     "data": {
      "text/plain": [
       "8     371\n",
       "5     368\n",
       "4     360\n",
       "10    351\n",
       "2     349\n",
       "6     349\n",
       "7     343\n",
       "1     340\n",
       "3     334\n",
       "9     328\n",
       "Name: Order Wait Time, dtype: int64"
      ]
     },
     "execution_count": 28,
     "metadata": {},
     "output_type": "execute_result"
    }
   ],
   "source": [
    "df['Order Wait Time'].value_counts()"
   ]
  },
  {
   "cell_type": "code",
   "execution_count": 29,
   "id": "ab64ea2c-7df8-4644-8fbb-36bc725a8bcc",
   "metadata": {},
   "outputs": [
    {
     "data": {
      "text/plain": [
       "5    1142\n",
       "4    1096\n",
       "3     571\n",
       "6     502\n",
       "7     121\n",
       "2      49\n",
       "8      11\n",
       "1       1\n",
       "Name: Staff Responsivness, dtype: int64"
      ]
     },
     "execution_count": 29,
     "metadata": {},
     "output_type": "execute_result"
    }
   ],
   "source": [
    "df['Staff Responsivness'].value_counts()"
   ]
  },
  {
   "cell_type": "code",
   "execution_count": 30,
   "id": "b1eb2556-d658-484d-a79e-cc2d12a7cd25",
   "metadata": {},
   "outputs": [
    {
     "data": {
      "text/plain": [
       "Arabian      1373\n",
       "Greek        1030\n",
       "90's          584\n",
       "Nature        179\n",
       "Parsi         103\n",
       "Chinese        74\n",
       "Delicio        23\n",
       "Molino         22\n",
       "English        19\n",
       "Belise         14\n",
       "Downtown       10\n",
       "Moonrise       10\n",
       "Mise En         7\n",
       "TheGem          6\n",
       "Carbone         4\n",
       "Petit           4\n",
       "Marco           4\n",
       "Umami           3\n",
       "Benedicta       3\n",
       "Picante         3\n",
       "Bettaso         2\n",
       "Resca           2\n",
       "Savory          2\n",
       "Cafepro         2\n",
       "Sage            1\n",
       "Piquant         1\n",
       "Flavors         1\n",
       "Grand           1\n",
       "Cinnamon        1\n",
       "Spoon           1\n",
       "LaCuisine       1\n",
       "Italica         1\n",
       "Bakery          1\n",
       "Ambiance        1\n",
       "Name: Restaurant Theme, dtype: int64"
      ]
     },
     "execution_count": 30,
     "metadata": {},
     "output_type": "execute_result"
    }
   ],
   "source": [
    "df['Restaurant Theme'].value_counts()"
   ]
  },
  {
   "cell_type": "code",
   "execution_count": 31,
   "id": "e6f35a63-ef27-4274-9870-3e9794c1f2a3",
   "metadata": {},
   "outputs": [
    {
     "name": "stdout",
     "output_type": "stream",
     "text": [
      "<class 'pandas.core.frame.DataFrame'>\n",
      "RangeIndex: 3493 entries, 0 to 3492\n",
      "Data columns (total 31 columns):\n",
      " #   Column                         Non-Null Count  Dtype  \n",
      "---  ------                         --------------  -----  \n",
      " 0   Annual Turnover                3493 non-null   int64  \n",
      " 1   Cuisine                        3493 non-null   object \n",
      " 2   Restaurant Location            3493 non-null   int64  \n",
      " 3   Facebook Popularity Quotient   3493 non-null   float64\n",
      " 4   Endorsed By                    3493 non-null   int64  \n",
      " 5   Instagram Popularity Quotient  3493 non-null   float64\n",
      " 6   Fire Audit                     3493 non-null   int64  \n",
      " 7   Liquor License Obtained        3493 non-null   int64  \n",
      " 8   Situated in a Multi Complex    3493 non-null   int64  \n",
      " 9   Dedicated Parking              3493 non-null   int64  \n",
      " 10  Open Sitting Available         3493 non-null   int64  \n",
      " 11  Resturant Tier                 3493 non-null   float64\n",
      " 12  Restaurant Type                3493 non-null   int64  \n",
      " 13  Restaurant Theme               3493 non-null   object \n",
      " 14  Restaurant Zomato Rating       3493 non-null   int64  \n",
      " 15  Restaurant City Tier           3493 non-null   int64  \n",
      " 16  Order Wait Time                3493 non-null   int64  \n",
      " 17  Staff Responsivness            3493 non-null   int64  \n",
      " 18  Value for Money                3493 non-null   int64  \n",
      " 19  Hygiene Rating                 3493 non-null   int64  \n",
      " 20  Food Rating                    3493 non-null   int64  \n",
      " 21  Overall Restaurant Rating      3493 non-null   float64\n",
      " 22  Live Music Rating              3493 non-null   float64\n",
      " 23  Comedy Gigs Rating             3493 non-null   float64\n",
      " 24  Value Deals Rating             3493 non-null   float64\n",
      " 25  Live Sports Rating             3493 non-null   float64\n",
      " 26  Ambience                       3493 non-null   float64\n",
      " 27  Lively                         3493 non-null   int64  \n",
      " 28  Service                        3493 non-null   int64  \n",
      " 29  Comfortablility                3493 non-null   int64  \n",
      " 30  Privacy                        3493 non-null   int64  \n",
      "dtypes: float64(9), int64(20), object(2)\n",
      "memory usage: 846.1+ KB\n"
     ]
    }
   ],
   "source": [
    "df.info()"
   ]
  },
  {
   "cell_type": "code",
   "execution_count": 32,
   "id": "32615f84-e831-4631-a111-0f20a1dc2ad4",
   "metadata": {},
   "outputs": [
    {
     "data": {
      "text/plain": [
       "<Axes: >"
      ]
     },
     "execution_count": 32,
     "metadata": {},
     "output_type": "execute_result"
    },
    {
     "data": {
      "image/png": "[encoded data removed]",
      "text/plain": [
       "<Figure size 640x480 with 2 Axes>"
      ]
     },
     "metadata": {},
     "output_type": "display_data"
    }
   ],
   "source": [
    "#Checking the correlation between continuous variable\n",
    "import seaborn as sns\n",
    "sns.heatmap(df[['Annual Turnover','Facebook Popularity Quotient','Instagram Popularity Quotient']].corr(),annot=True)"
   ]
  },
  {
   "cell_type": "code",
   "execution_count": 33,
   "id": "a5d548c4-a2b8-46b3-be1a-962ef29957bd",
   "metadata": {},
   "outputs": [],
   "source": [
    "#One hot Encoding the categorical Variable\n",
    "import sklearn\n",
    "from sklearn.preprocessing import StandardScaler, OneHotEncoder\n",
    "#df = pd.get_dummies(df,columns=['Cuisine','Restaurant Type','Restaurant Theme'])\n",
    "#test_df = pd.get_dummies(test_df,columns=['Cuisine','Restaurant Type','Restaurant Theme'])\n",
    "en = OneHotEncoder(sparse_output=False)\n",
    "df_en = en.fit_transform(df[['Cuisine','Restaurant Type','Restaurant Theme']])\n",
    "one_hot_df = pd.DataFrame(df_en, columns=en.get_feature_names_out(['Cuisine','Restaurant Type','Restaurant Theme']))\n",
    "df_rest = df.drop(['Cuisine','Restaurant Type','Restaurant Theme'],axis=1)\n",
    "df_encoded = pd.concat([df_rest, one_hot_df], axis=1)"
   ]
  },
  {
   "cell_type": "code",
   "execution_count": 34,
   "id": "9c3a696f-36db-4c3c-b41e-3735f06f6f42",
   "metadata": {},
   "outputs": [],
   "source": [
    "df_en_test = en.transform(test_df[['Cuisine','Restaurant Type','Restaurant Theme']])\n",
    "one_hot_df_test = pd.DataFrame(df_en_test, columns=en.get_feature_names_out(['Cuisine','Restaurant Type','Restaurant Theme']))\n",
    "df_rest_test = test_df.drop(['Cuisine','Restaurant Type','Restaurant Theme'],axis=1)\n",
    "df_encoded_test = pd.concat([df_rest_test, one_hot_df_test], axis=1)"
   ]
  },
  {
   "cell_type": "code",
   "execution_count": 35,
   "id": "cb0b6345-25db-49be-8739-13b3630028ef",
   "metadata": {},
   "outputs": [],
   "source": [
    "x = df_encoded.drop('Annual Turnover',axis=1)\n",
    "y = df_encoded['Annual Turnover']"
   ]
  },
  {
   "cell_type": "code",
   "execution_count": 36,
   "id": "f8de5ded-d703-4e3b-b50d-d8c234a76fa6",
   "metadata": {
    "scrolled": true
   },
   "outputs": [],
   "source": [
    "sc = StandardScaler()\n",
    "x_sc = sc.fit_transform(x)\n",
    "x_test = sc.transform(df_encoded_test)"
   ]
  },
  {
   "cell_type": "markdown",
   "id": "492d566e-5820-447c-8a02-895e95a59023",
   "metadata": {},
   "source": [
    "# Linear Regression"
   ]
  },
  {
   "cell_type": "code",
   "execution_count": 37,
   "id": "3a6a31ff-8eee-45b6-bfb0-336acc185e83",
   "metadata": {},
   "outputs": [
    {
     "data": {
      "text/html": [
       "<style>#sk-container-id-1 {color: black;background-color: white;}#sk-container-id-1 pre{padding: 0;}#sk-container-id-1 div.sk-toggleable {background-color: white;}#sk-container-id-1 label.sk-toggleable__label {cursor: pointer;display: block;width: 100%;margin-bottom: 0;padding: 0.3em;box-sizing: border-box;text-align: center;}#sk-container-id-1 label.sk-toggleable__label-arrow:before {content: \"▸\";float: left;margin-right: 0.25em;color: #696969;}#sk-container-id-1 label.sk-toggleable__label-arrow:hover:before {color: black;}#sk-container-id-1 div.sk-estimator:hover label.sk-toggleable__label-arrow:before {color: black;}#sk-container-id-1 div.sk-toggleable__content {max-height: 0;max-width: 0;overflow: hidden;text-align: left;background-color: #f0f8ff;}#sk-container-id-1 div.sk-toggleable__content pre {margin: 0.2em;color: black;border-radius: 0.25em;background-color: #f0f8ff;}#sk-container-id-1 input.sk-toggleable__control:checked~div.sk-toggleable__content {max-height: 200px;max-width: 100%;overflow: auto;}#sk-container-id-1 input.sk-toggleable__control:checked~label.sk-toggleable__label-arrow:before {content: \"▾\";}#sk-container-id-1 div.sk-estimator input.sk-toggleable__control:checked~label.sk-toggleable__label {background-color: #d4ebff;}#sk-container-id-1 div.sk-label input.sk-toggleable__control:checked~label.sk-toggleable__label {background-color: #d4ebff;}#sk-container-id-1 input.sk-hidden--visually {border: 0;clip: rect(1px 1px 1px 1px);clip: rect(1px, 1px, 1px, 1px);height: 1px;margin: -1px;overflow: hidden;padding: 0;position: absolute;width: 1px;}#sk-container-id-1 div.sk-estimator {font-family: monospace;background-color: #f0f8ff;border: 1px dotted black;border-radius: 0.25em;box-sizing: border-box;margin-bottom: 0.5em;}#sk-container-id-1 div.sk-estimator:hover {background-color: #d4ebff;}#sk-container-id-1 div.sk-parallel-item::after {content: \"\";width: 100%;border-bottom: 1px solid gray;flex-grow: 1;}#sk-container-id-1 div.sk-label:hover label.sk-toggleable__label {background-color: #d4ebff;}#sk-container-id-1 div.sk-serial::before {content: \"\";position: absolute;border-left: 1px solid gray;box-sizing: border-box;top: 0;bottom: 0;left: 50%;z-index: 0;}#sk-container-id-1 div.sk-serial {display: flex;flex-direction: column;align-items: center;background-color: white;padding-right: 0.2em;padding-left: 0.2em;position: relative;}#sk-container-id-1 div.sk-item {position: relative;z-index: 1;}#sk-container-id-1 div.sk-parallel {display: flex;align-items: stretch;justify-content: center;background-color: white;position: relative;}#sk-container-id-1 div.sk-item::before, #sk-container-id-1 div.sk-parallel-item::before {content: \"\";position: absolute;border-left: 1px solid gray;box-sizing: border-box;top: 0;bottom: 0;left: 50%;z-index: -1;}#sk-container-id-1 div.sk-parallel-item {display: flex;flex-direction: column;z-index: 1;position: relative;background-color: white;}#sk-container-id-1 div.sk-parallel-item:first-child::after {align-self: flex-end;width: 50%;}#sk-container-id-1 div.sk-parallel-item:last-child::after {align-self: flex-start;width: 50%;}#sk-container-id-1 div.sk-parallel-item:only-child::after {width: 0;}#sk-container-id-1 div.sk-dashed-wrapped {border: 1px dashed gray;margin: 0 0.4em 0.5em 0.4em;box-sizing: border-box;padding-bottom: 0.4em;background-color: white;}#sk-container-id-1 div.sk-label label {font-family: monospace;font-weight: bold;display: inline-block;line-height: 1.2em;}#sk-container-id-1 div.sk-label-container {text-align: center;}#sk-container-id-1 div.sk-container {/* jupyter's `normalize.less` sets `[hidden] { display: none; }` but bootstrap.min.css set `[hidden] { display: none !important; }` so we also need the `!important` here to be able to override the default hidden behavior on the sphinx rendered scikit-learn.org. See: https://github.com/scikit-learn/scikit-learn/issues/21755 */display: inline-block !important;position: relative;}#sk-container-id-1 div.sk-text-repr-fallback {display: none;}</style><div id=\"sk-container-id-1\" class=\"sk-top-container\"><div class=\"sk-text-repr-fallback\"><pre>LinearRegression()</pre><b>In a Jupyter environment, please rerun this cell to show the HTML representation or trust the notebook. <br />On GitHub, the HTML representation is unable to render, please try loading this page with nbviewer.org.</b></div><div class=\"sk-container\" hidden><div class=\"sk-item\"><div class=\"sk-estimator sk-toggleable\"><input class=\"sk-toggleable__control sk-hidden--visually\" id=\"sk-estimator-id-1\" type=\"checkbox\" checked><label for=\"sk-estimator-id-1\" class=\"sk-toggleable__label sk-toggleable__label-arrow\">LinearRegression</label><div class=\"sk-toggleable__content\"><pre>LinearRegression()</pre></div></div></div></div></div>"
      ],
      "text/plain": [
       "LinearRegression()"
      ]
     },
     "execution_count": 37,
     "metadata": {},
     "output_type": "execute_result"
    }
   ],
   "source": [
    "from sklearn.linear_model import LinearRegression\n",
    "lr = LinearRegression()\n",
    "lr.fit(x_sc,y)"
   ]
  },
  {
   "cell_type": "code",
   "execution_count": 38,
   "id": "605c8e7f-df74-4c7f-9da6-d5916e92270b",
   "metadata": {},
   "outputs": [
    {
     "data": {
      "text/plain": [
       "0.1358154887950187"
      ]
     },
     "execution_count": 38,
     "metadata": {},
     "output_type": "execute_result"
    }
   ],
   "source": [
    "lr.score(x_sc,y)"
   ]
  },
  {
   "cell_type": "code",
   "execution_count": 39,
   "id": "ca2a8ede-40f9-4aa1-b8b3-530df17c6a67",
   "metadata": {},
   "outputs": [],
   "source": [
    "from sklearn.metrics import mean_squared_error"
   ]
  },
  {
   "cell_type": "code",
   "execution_count": 40,
   "id": "d826cabb-06e0-40d8-800e-413e52b40b25",
   "metadata": {},
   "outputs": [
    {
     "data": {
      "text/plain": [
       "20124447.978359126"
      ]
     },
     "execution_count": 40,
     "metadata": {},
     "output_type": "execute_result"
    }
   ],
   "source": [
    "mean_squared_error(lr.predict(x_sc),y,squared=False)"
   ]
  },
  {
   "cell_type": "code",
   "execution_count": 42,
   "id": "7db72c6d-83ab-4001-abe7-62f485f09aca",
   "metadata": {},
   "outputs": [],
   "source": [
    "y_test = lr.predict(x_test)"
   ]
  },
  {
   "cell_type": "code",
   "execution_count": 45,
   "id": "a43784c4-e457-4360-a354-6f68b5e91d26",
   "metadata": {},
   "outputs": [],
   "source": [
    "d = pd.DataFrame({'Registration Number':test['Registration Number'].values,'Annual Turnover':y_test})"
   ]
  },
  {
   "cell_type": "code",
   "execution_count": 46,
   "id": "7533dac7-95dd-456f-9e43-9dbf3c7f3c1d",
   "metadata": {},
   "outputs": [
    {
     "data": {
      "text/html": [
       "<div>\n",
       "<style scoped>\n",
       "    .dataframe tbody tr th:only-of-type {\n",
       "        vertical-align: middle;\n",
       "    }\n",
       "\n",
       "    .dataframe tbody tr th {\n",
       "        vertical-align: top;\n",
       "    }\n",
       "\n",
       "    .dataframe thead th {\n",
       "        text-align: right;\n",
       "    }\n",
       "</style>\n",
       "<table border=\"1\" class=\"dataframe\">\n",
       "  <thead>\n",
       "    <tr style=\"text-align: right;\">\n",
       "      <th></th>\n",
       "      <th>Registration Number</th>\n",
       "      <th>Annual Turnover</th>\n",
       "    </tr>\n",
       "  </thead>\n",
       "  <tbody>\n",
       "    <tr>\n",
       "      <th>0</th>\n",
       "      <td>20001</td>\n",
       "      <td>2.147585e+07</td>\n",
       "    </tr>\n",
       "    <tr>\n",
       "      <th>1</th>\n",
       "      <td>20002</td>\n",
       "      <td>4.362701e+07</td>\n",
       "    </tr>\n",
       "    <tr>\n",
       "      <th>2</th>\n",
       "      <td>20003</td>\n",
       "      <td>2.979892e+07</td>\n",
       "    </tr>\n",
       "    <tr>\n",
       "      <th>3</th>\n",
       "      <td>20004</td>\n",
       "      <td>4.185754e+07</td>\n",
       "    </tr>\n",
       "    <tr>\n",
       "      <th>4</th>\n",
       "      <td>20005</td>\n",
       "      <td>3.684404e+07</td>\n",
       "    </tr>\n",
       "    <tr>\n",
       "      <th>...</th>\n",
       "      <td>...</td>\n",
       "      <td>...</td>\n",
       "    </tr>\n",
       "    <tr>\n",
       "      <th>495</th>\n",
       "      <td>20496</td>\n",
       "      <td>3.635252e+07</td>\n",
       "    </tr>\n",
       "    <tr>\n",
       "      <th>496</th>\n",
       "      <td>20497</td>\n",
       "      <td>2.678426e+07</td>\n",
       "    </tr>\n",
       "    <tr>\n",
       "      <th>497</th>\n",
       "      <td>20498</td>\n",
       "      <td>3.360001e+07</td>\n",
       "    </tr>\n",
       "    <tr>\n",
       "      <th>498</th>\n",
       "      <td>20499</td>\n",
       "      <td>4.913436e+07</td>\n",
       "    </tr>\n",
       "    <tr>\n",
       "      <th>499</th>\n",
       "      <td>20500</td>\n",
       "      <td>4.023785e+07</td>\n",
       "    </tr>\n",
       "  </tbody>\n",
       "</table>\n",
       "<p>500 rows × 2 columns</p>\n",
       "</div>"
      ],
      "text/plain": [
       "     Registration Number  Annual Turnover\n",
       "0                  20001     2.147585e+07\n",
       "1                  20002     4.362701e+07\n",
       "2                  20003     2.979892e+07\n",
       "3                  20004     4.185754e+07\n",
       "4                  20005     3.684404e+07\n",
       "..                   ...              ...\n",
       "495                20496     3.635252e+07\n",
       "496                20497     2.678426e+07\n",
       "497                20498     3.360001e+07\n",
       "498                20499     4.913436e+07\n",
       "499                20500     4.023785e+07\n",
       "\n",
       "[500 rows x 2 columns]"
      ]
     },
     "execution_count": 46,
     "metadata": {},
     "output_type": "execute_result"
    }
   ],
   "source": [
    "d"
   ]
  },
  {
   "cell_type": "code",
   "execution_count": 63,
   "id": "ae83f24e-f6d6-43a0-8f30-e0914c9c85b6",
   "metadata": {},
   "outputs": [],
   "source": [
    "d.to_csv('submission.csv',index=False)"
   ]
  },
  {
   "cell_type": "markdown",
   "id": "f162ac26-9359-451c-bf53-edeb82d63492",
   "metadata": {},
   "source": [
    "# Random Forest"
   ]
  },
  {
   "cell_type": "code",
   "execution_count": 47,
   "id": "3ba27ce3-cffb-4fbd-ba24-3be8ccf11673",
   "metadata": {},
   "outputs": [],
   "source": [
    "from sklearn.ensemble import RandomForestRegressor"
   ]
  },
  {
   "cell_type": "code",
   "execution_count": 48,
   "id": "f774ffc6-b83b-4f8d-8b10-5be27964c494",
   "metadata": {},
   "outputs": [
    {
     "data": {
      "text/html": [
       "<style>#sk-container-id-2 {color: black;background-color: white;}#sk-container-id-2 pre{padding: 0;}#sk-container-id-2 div.sk-toggleable {background-color: white;}#sk-container-id-2 label.sk-toggleable__label {cursor: pointer;display: block;width: 100%;margin-bottom: 0;padding: 0.3em;box-sizing: border-box;text-align: center;}#sk-container-id-2 label.sk-toggleable__label-arrow:before {content: \"▸\";float: left;margin-right: 0.25em;color: #696969;}#sk-container-id-2 label.sk-toggleable__label-arrow:hover:before {color: black;}#sk-container-id-2 div.sk-estimator:hover label.sk-toggleable__label-arrow:before {color: black;}#sk-container-id-2 div.sk-toggleable__content {max-height: 0;max-width: 0;overflow: hidden;text-align: left;background-color: #f0f8ff;}#sk-container-id-2 div.sk-toggleable__content pre {margin: 0.2em;color: black;border-radius: 0.25em;background-color: #f0f8ff;}#sk-container-id-2 input.sk-toggleable__control:checked~div.sk-toggleable__content {max-height: 200px;max-width: 100%;overflow: auto;}#sk-container-id-2 input.sk-toggleable__control:checked~label.sk-toggleable__label-arrow:before {content: \"▾\";}#sk-container-id-2 div.sk-estimator input.sk-toggleable__control:checked~label.sk-toggleable__label {background-color: #d4ebff;}#sk-container-id-2 div.sk-label input.sk-toggleable__control:checked~label.sk-toggleable__label {background-color: #d4ebff;}#sk-container-id-2 input.sk-hidden--visually {border: 0;clip: rect(1px 1px 1px 1px);clip: rect(1px, 1px, 1px, 1px);height: 1px;margin: -1px;overflow: hidden;padding: 0;position: absolute;width: 1px;}#sk-container-id-2 div.sk-estimator {font-family: monospace;background-color: #f0f8ff;border: 1px dotted black;border-radius: 0.25em;box-sizing: border-box;margin-bottom: 0.5em;}#sk-container-id-2 div.sk-estimator:hover {background-color: #d4ebff;}#sk-container-id-2 div.sk-parallel-item::after {content: \"\";width: 100%;border-bottom: 1px solid gray;flex-grow: 1;}#sk-container-id-2 div.sk-label:hover label.sk-toggleable__label {background-color: #d4ebff;}#sk-container-id-2 div.sk-serial::before {content: \"\";position: absolute;border-left: 1px solid gray;box-sizing: border-box;top: 0;bottom: 0;left: 50%;z-index: 0;}#sk-container-id-2 div.sk-serial {display: flex;flex-direction: column;align-items: center;background-color: white;padding-right: 0.2em;padding-left: 0.2em;position: relative;}#sk-container-id-2 div.sk-item {position: relative;z-index: 1;}#sk-container-id-2 div.sk-parallel {display: flex;align-items: stretch;justify-content: center;background-color: white;position: relative;}#sk-container-id-2 div.sk-item::before, #sk-container-id-2 div.sk-parallel-item::before {content: \"\";position: absolute;border-left: 1px solid gray;box-sizing: border-box;top: 0;bottom: 0;left: 50%;z-index: -1;}#sk-container-id-2 div.sk-parallel-item {display: flex;flex-direction: column;z-index: 1;position: relative;background-color: white;}#sk-container-id-2 div.sk-parallel-item:first-child::after {align-self: flex-end;width: 50%;}#sk-container-id-2 div.sk-parallel-item:last-child::after {align-self: flex-start;width: 50%;}#sk-container-id-2 div.sk-parallel-item:only-child::after {width: 0;}#sk-container-id-2 div.sk-dashed-wrapped {border: 1px dashed gray;margin: 0 0.4em 0.5em 0.4em;box-sizing: border-box;padding-bottom: 0.4em;background-color: white;}#sk-container-id-2 div.sk-label label {font-family: monospace;font-weight: bold;display: inline-block;line-height: 1.2em;}#sk-container-id-2 div.sk-label-container {text-align: center;}#sk-container-id-2 div.sk-container {/* jupyter's `normalize.less` sets `[hidden] { display: none; }` but bootstrap.min.css set `[hidden] { display: none !important; }` so we also need the `!important` here to be able to override the default hidden behavior on the sphinx rendered scikit-learn.org. See: https://github.com/scikit-learn/scikit-learn/issues/21755 */display: inline-block !important;position: relative;}#sk-container-id-2 div.sk-text-repr-fallback {display: none;}</style><div id=\"sk-container-id-2\" class=\"sk-top-container\"><div class=\"sk-text-repr-fallback\"><pre>RandomForestRegressor()</pre><b>In a Jupyter environment, please rerun this cell to show the HTML representation or trust the notebook. <br />On GitHub, the HTML representation is unable to render, please try loading this page with nbviewer.org.</b></div><div class=\"sk-container\" hidden><div class=\"sk-item\"><div class=\"sk-estimator sk-toggleable\"><input class=\"sk-toggleable__control sk-hidden--visually\" id=\"sk-estimator-id-2\" type=\"checkbox\" checked><label for=\"sk-estimator-id-2\" class=\"sk-toggleable__label sk-toggleable__label-arrow\">RandomForestRegressor</label><div class=\"sk-toggleable__content\"><pre>RandomForestRegressor()</pre></div></div></div></div></div>"
      ],
      "text/plain": [
       "RandomForestRegressor()"
      ]
     },
     "execution_count": 48,
     "metadata": {},
     "output_type": "execute_result"
    }
   ],
   "source": [
    "rf = RandomForestRegressor()\n",
    "rf.fit(x_sc,y)"
   ]
  },
  {
   "cell_type": "code",
   "execution_count": 49,
   "id": "8487a7b7-ccc1-43ab-8636-353224b33473",
   "metadata": {},
   "outputs": [
    {
     "data": {
      "text/plain": [
       "7913355.852823827"
      ]
     },
     "execution_count": 49,
     "metadata": {},
     "output_type": "execute_result"
    }
   ],
   "source": [
    "mean_squared_error(rf.predict(x_sc),y,squared=False)"
   ]
  },
  {
   "cell_type": "code",
   "execution_count": 50,
   "id": "f6387a9d-b913-4819-8a90-9a39172e1656",
   "metadata": {},
   "outputs": [],
   "source": [
    "y_test = rf.predict(x_test)"
   ]
  },
  {
   "cell_type": "code",
   "execution_count": 51,
   "id": "12871312-b218-4872-981b-3072e17c5470",
   "metadata": {},
   "outputs": [],
   "source": [
    "d = pd.DataFrame({'Registration Number':test['Registration Number'].values,'Annual Turnover':y_test})"
   ]
  },
  {
   "cell_type": "code",
   "execution_count": 52,
   "id": "8649e475-eeeb-44c7-8ccf-d01dd4cbebea",
   "metadata": {},
   "outputs": [],
   "source": [
    "d.to_csv('submission.csv',index=False)"
   ]
  },
  {
   "cell_type": "markdown",
   "id": "32d8a4e5-5bf0-4a87-9ced-b2210fe03fbe",
   "metadata": {},
   "source": [
    "# Gradient Boosting"
   ]
  },
  {
   "cell_type": "code",
   "execution_count": 54,
   "id": "32a61aa9-d356-455c-af77-0bf5707f5784",
   "metadata": {},
   "outputs": [],
   "source": [
    "from sklearn.ensemble import GradientBoostingRegressor"
   ]
  },
  {
   "cell_type": "code",
   "execution_count": 55,
   "id": "e752ee2f-bf8b-4efa-88d3-b65dd69c9569",
   "metadata": {},
   "outputs": [
    {
     "data": {
      "text/html": [
       "<style>#sk-container-id-3 {color: black;background-color: white;}#sk-container-id-3 pre{padding: 0;}#sk-container-id-3 div.sk-toggleable {background-color: white;}#sk-container-id-3 label.sk-toggleable__label {cursor: pointer;display: block;width: 100%;margin-bottom: 0;padding: 0.3em;box-sizing: border-box;text-align: center;}#sk-container-id-3 label.sk-toggleable__label-arrow:before {content: \"▸\";float: left;margin-right: 0.25em;color: #696969;}#sk-container-id-3 label.sk-toggleable__label-arrow:hover:before {color: black;}#sk-container-id-3 div.sk-estimator:hover label.sk-toggleable__label-arrow:before {color: black;}#sk-container-id-3 div.sk-toggleable__content {max-height: 0;max-width: 0;overflow: hidden;text-align: left;background-color: #f0f8ff;}#sk-container-id-3 div.sk-toggleable__content pre {margin: 0.2em;color: black;border-radius: 0.25em;background-color: #f0f8ff;}#sk-container-id-3 input.sk-toggleable__control:checked~div.sk-toggleable__content {max-height: 200px;max-width: 100%;overflow: auto;}#sk-container-id-3 input.sk-toggleable__control:checked~label.sk-toggleable__label-arrow:before {content: \"▾\";}#sk-container-id-3 div.sk-estimator input.sk-toggleable__control:checked~label.sk-toggleable__label {background-color: #d4ebff;}#sk-container-id-3 div.sk-label input.sk-toggleable__control:checked~label.sk-toggleable__label {background-color: #d4ebff;}#sk-container-id-3 input.sk-hidden--visually {border: 0;clip: rect(1px 1px 1px 1px);clip: rect(1px, 1px, 1px, 1px);height: 1px;margin: -1px;overflow: hidden;padding: 0;position: absolute;width: 1px;}#sk-container-id-3 div.sk-estimator {font-family: monospace;background-color: #f0f8ff;border: 1px dotted black;border-radius: 0.25em;box-sizing: border-box;margin-bottom: 0.5em;}#sk-container-id-3 div.sk-estimator:hover {background-color: #d4ebff;}#sk-container-id-3 div.sk-parallel-item::after {content: \"\";width: 100%;border-bottom: 1px solid gray;flex-grow: 1;}#sk-container-id-3 div.sk-label:hover label.sk-toggleable__label {background-color: #d4ebff;}#sk-container-id-3 div.sk-serial::before {content: \"\";position: absolute;border-left: 1px solid gray;box-sizing: border-box;top: 0;bottom: 0;left: 50%;z-index: 0;}#sk-container-id-3 div.sk-serial {display: flex;flex-direction: column;align-items: center;background-color: white;padding-right: 0.2em;padding-left: 0.2em;position: relative;}#sk-container-id-3 div.sk-item {position: relative;z-index: 1;}#sk-container-id-3 div.sk-parallel {display: flex;align-items: stretch;justify-content: center;background-color: white;position: relative;}#sk-container-id-3 div.sk-item::before, #sk-container-id-3 div.sk-parallel-item::before {content: \"\";position: absolute;border-left: 1px solid gray;box-sizing: border-box;top: 0;bottom: 0;left: 50%;z-index: -1;}#sk-container-id-3 div.sk-parallel-item {display: flex;flex-direction: column;z-index: 1;position: relative;background-color: white;}#sk-container-id-3 div.sk-parallel-item:first-child::after {align-self: flex-end;width: 50%;}#sk-container-id-3 div.sk-parallel-item:last-child::after {align-self: flex-start;width: 50%;}#sk-container-id-3 div.sk-parallel-item:only-child::after {width: 0;}#sk-container-id-3 div.sk-dashed-wrapped {border: 1px dashed gray;margin: 0 0.4em 0.5em 0.4em;box-sizing: border-box;padding-bottom: 0.4em;background-color: white;}#sk-container-id-3 div.sk-label label {font-family: monospace;font-weight: bold;display: inline-block;line-height: 1.2em;}#sk-container-id-3 div.sk-label-container {text-align: center;}#sk-container-id-3 div.sk-container {/* jupyter's `normalize.less` sets `[hidden] { display: none; }` but bootstrap.min.css set `[hidden] { display: none !important; }` so we also need the `!important` here to be able to override the default hidden behavior on the sphinx rendered scikit-learn.org. See: https://github.com/scikit-learn/scikit-learn/issues/21755 */display: inline-block !important;position: relative;}#sk-container-id-3 div.sk-text-repr-fallback {display: none;}</style><div id=\"sk-container-id-3\" class=\"sk-top-container\"><div class=\"sk-text-repr-fallback\"><pre>GradientBoostingRegressor()</pre><b>In a Jupyter environment, please rerun this cell to show the HTML representation or trust the notebook. <br />On GitHub, the HTML representation is unable to render, please try loading this page with nbviewer.org.</b></div><div class=\"sk-container\" hidden><div class=\"sk-item\"><div class=\"sk-estimator sk-toggleable\"><input class=\"sk-toggleable__control sk-hidden--visually\" id=\"sk-estimator-id-3\" type=\"checkbox\" checked><label for=\"sk-estimator-id-3\" class=\"sk-toggleable__label sk-toggleable__label-arrow\">GradientBoostingRegressor</label><div class=\"sk-toggleable__content\"><pre>GradientBoostingRegressor()</pre></div></div></div></div></div>"
      ],
      "text/plain": [
       "GradientBoostingRegressor()"
      ]
     },
     "execution_count": 55,
     "metadata": {},
     "output_type": "execute_result"
    }
   ],
   "source": [
    "gb = GradientBoostingRegressor()\n",
    "gb.fit(x_sc,y)"
   ]
  },
  {
   "cell_type": "code",
   "execution_count": 56,
   "id": "765fe918-ec82-4626-b56f-f625fd5def7d",
   "metadata": {},
   "outputs": [
    {
     "data": {
      "text/plain": [
       "16523028.443923658"
      ]
     },
     "execution_count": 56,
     "metadata": {},
     "output_type": "execute_result"
    }
   ],
   "source": [
    "mean_squared_error(gb.predict(x_sc),y,squared=False)"
   ]
  },
  {
   "cell_type": "code",
   "execution_count": 58,
   "id": "1d8af7b0-3482-4128-9f70-0b1ec796f729",
   "metadata": {},
   "outputs": [],
   "source": [
    "y_test = gb.predict(x_test)"
   ]
  },
  {
   "cell_type": "code",
   "execution_count": 59,
   "id": "36a26c51-e662-4197-8756-a8aca4936e13",
   "metadata": {},
   "outputs": [],
   "source": [
    "d = pd.DataFrame({'Registration Number':test['Registration Number'].values,'Annual Turnover':y_test})"
   ]
  },
  {
   "cell_type": "code",
   "execution_count": 60,
   "id": "9d4e42a1-074c-472f-9a55-75ed446665d2",
   "metadata": {},
   "outputs": [],
   "source": [
    "d.to_csv('submission.csv',index=False)"
   ]
  },
  {
   "cell_type": "markdown",
   "id": "0c1aeb29-6717-4a8f-9dbd-026167e40c7c",
   "metadata": {},
   "source": [
    "# Elasticnet"
   ]
  },
  {
   "cell_type": "code",
   "execution_count": 61,
   "id": "7620a97d-2c9e-495b-83bd-3ffa7c020da7",
   "metadata": {},
   "outputs": [],
   "source": [
    "from sklearn.linear_model import ElasticNet"
   ]
  },
  {
   "cell_type": "code",
   "execution_count": 62,
   "id": "ca5eaa75-5c04-4da9-98e1-fd0a27725c20",
   "metadata": {},
   "outputs": [
    {
     "data": {
      "text/html": [
       "<style>#sk-container-id-4 {color: black;background-color: white;}#sk-container-id-4 pre{padding: 0;}#sk-container-id-4 div.sk-toggleable {background-color: white;}#sk-container-id-4 label.sk-toggleable__label {cursor: pointer;display: block;width: 100%;margin-bottom: 0;padding: 0.3em;box-sizing: border-box;text-align: center;}#sk-container-id-4 label.sk-toggleable__label-arrow:before {content: \"▸\";float: left;margin-right: 0.25em;color: #696969;}#sk-container-id-4 label.sk-toggleable__label-arrow:hover:before {color: black;}#sk-container-id-4 div.sk-estimator:hover label.sk-toggleable__label-arrow:before {color: black;}#sk-container-id-4 div.sk-toggleable__content {max-height: 0;max-width: 0;overflow: hidden;text-align: left;background-color: #f0f8ff;}#sk-container-id-4 div.sk-toggleable__content pre {margin: 0.2em;color: black;border-radius: 0.25em;background-color: #f0f8ff;}#sk-container-id-4 input.sk-toggleable__control:checked~div.sk-toggleable__content {max-height: 200px;max-width: 100%;overflow: auto;}#sk-container-id-4 input.sk-toggleable__control:checked~label.sk-toggleable__label-arrow:before {content: \"▾\";}#sk-container-id-4 div.sk-estimator input.sk-toggleable__control:checked~label.sk-toggleable__label {background-color: #d4ebff;}#sk-container-id-4 div.sk-label input.sk-toggleable__control:checked~label.sk-toggleable__label {background-color: #d4ebff;}#sk-container-id-4 input.sk-hidden--visually {border: 0;clip: rect(1px 1px 1px 1px);clip: rect(1px, 1px, 1px, 1px);height: 1px;margin: -1px;overflow: hidden;padding: 0;position: absolute;width: 1px;}#sk-container-id-4 div.sk-estimator {font-family: monospace;background-color: #f0f8ff;border: 1px dotted black;border-radius: 0.25em;box-sizing: border-box;margin-bottom: 0.5em;}#sk-container-id-4 div.sk-estimator:hover {background-color: #d4ebff;}#sk-container-id-4 div.sk-parallel-item::after {content: \"\";width: 100%;border-bottom: 1px solid gray;flex-grow: 1;}#sk-container-id-4 div.sk-label:hover label.sk-toggleable__label {background-color: #d4ebff;}#sk-container-id-4 div.sk-serial::before {content: \"\";position: absolute;border-left: 1px solid gray;box-sizing: border-box;top: 0;bottom: 0;left: 50%;z-index: 0;}#sk-container-id-4 div.sk-serial {display: flex;flex-direction: column;align-items: center;background-color: white;padding-right: 0.2em;padding-left: 0.2em;position: relative;}#sk-container-id-4 div.sk-item {position: relative;z-index: 1;}#sk-container-id-4 div.sk-parallel {display: flex;align-items: stretch;justify-content: center;background-color: white;position: relative;}#sk-container-id-4 div.sk-item::before, #sk-container-id-4 div.sk-parallel-item::before {content: \"\";position: absolute;border-left: 1px solid gray;box-sizing: border-box;top: 0;bottom: 0;left: 50%;z-index: -1;}#sk-container-id-4 div.sk-parallel-item {display: flex;flex-direction: column;z-index: 1;position: relative;background-color: white;}#sk-container-id-4 div.sk-parallel-item:first-child::after {align-self: flex-end;width: 50%;}#sk-container-id-4 div.sk-parallel-item:last-child::after {align-self: flex-start;width: 50%;}#sk-container-id-4 div.sk-parallel-item:only-child::after {width: 0;}#sk-container-id-4 div.sk-dashed-wrapped {border: 1px dashed gray;margin: 0 0.4em 0.5em 0.4em;box-sizing: border-box;padding-bottom: 0.4em;background-color: white;}#sk-container-id-4 div.sk-label label {font-family: monospace;font-weight: bold;display: inline-block;line-height: 1.2em;}#sk-container-id-4 div.sk-label-container {text-align: center;}#sk-container-id-4 div.sk-container {/* jupyter's `normalize.less` sets `[hidden] { display: none; }` but bootstrap.min.css set `[hidden] { display: none !important; }` so we also need the `!important` here to be able to override the default hidden behavior on the sphinx rendered scikit-learn.org. See: https://github.com/scikit-learn/scikit-learn/issues/21755 */display: inline-block !important;position: relative;}#sk-container-id-4 div.sk-text-repr-fallback {display: none;}</style><div id=\"sk-container-id-4\" class=\"sk-top-container\"><div class=\"sk-text-repr-fallback\"><pre>ElasticNet()</pre><b>In a Jupyter environment, please rerun this cell to show the HTML representation or trust the notebook. <br />On GitHub, the HTML representation is unable to render, please try loading this page with nbviewer.org.</b></div><div class=\"sk-container\" hidden><div class=\"sk-item\"><div class=\"sk-estimator sk-toggleable\"><input class=\"sk-toggleable__control sk-hidden--visually\" id=\"sk-estimator-id-4\" type=\"checkbox\" checked><label for=\"sk-estimator-id-4\" class=\"sk-toggleable__label sk-toggleable__label-arrow\">ElasticNet</label><div class=\"sk-toggleable__content\"><pre>ElasticNet()</pre></div></div></div></div></div>"
      ],
      "text/plain": [
       "ElasticNet()"
      ]
     },
     "execution_count": 62,
     "metadata": {},
     "output_type": "execute_result"
    }
   ],
   "source": [
    "e = ElasticNet()\n",
    "e.fit(x_sc,y)"
   ]
  },
  {
   "cell_type": "code",
   "execution_count": 63,
   "id": "25dcef9f-829d-49e3-84a8-06983a8e887e",
   "metadata": {},
   "outputs": [
    {
     "data": {
      "text/plain": [
       "20189868.173291318"
      ]
     },
     "execution_count": 63,
     "metadata": {},
     "output_type": "execute_result"
    }
   ],
   "source": [
    "mean_squared_error(e.predict(x_sc),y,squared=False)"
   ]
  },
  {
   "cell_type": "code",
   "execution_count": 64,
   "id": "87f8d583-9566-441c-b442-6fe0bd7517e9",
   "metadata": {},
   "outputs": [],
   "source": [
    "y_test = e.predict(x_test)"
   ]
  },
  {
   "cell_type": "code",
   "execution_count": 65,
   "id": "417c616c-f1e1-44bd-b565-8f2594233e5d",
   "metadata": {},
   "outputs": [],
   "source": [
    "d = pd.DataFrame({'Registration Number':test['Registration Number'].values,'Annual Turnover':y_test})"
   ]
  },
  {
   "cell_type": "code",
   "execution_count": 66,
   "id": "9837dbc8-a350-4408-b74d-2f2d01634fdd",
   "metadata": {},
   "outputs": [],
   "source": [
    "d.to_csv('submission.csv',index=False)"
   ]
  },
  {
   "cell_type": "markdown",
   "id": "d9c56013-9465-44ab-bb4f-ed500e7bf21b",
   "metadata": {},
   "source": [
    "# KNN"
   ]
  },
  {
   "cell_type": "code",
   "execution_count": 67,
   "id": "afcadd45-510f-455c-bbc2-6f34837146e8",
   "metadata": {},
   "outputs": [],
   "source": [
    "from sklearn.neighbors import KNeighborsRegressor"
   ]
  },
  {
   "cell_type": "code",
   "execution_count": 68,
   "id": "a4f8357a-0ab3-4d5d-bd22-ee49c920a9d9",
   "metadata": {},
   "outputs": [
    {
     "data": {
      "text/html": [
       "<style>#sk-container-id-5 {color: black;background-color: white;}#sk-container-id-5 pre{padding: 0;}#sk-container-id-5 div.sk-toggleable {background-color: white;}#sk-container-id-5 label.sk-toggleable__label {cursor: pointer;display: block;width: 100%;margin-bottom: 0;padding: 0.3em;box-sizing: border-box;text-align: center;}#sk-container-id-5 label.sk-toggleable__label-arrow:before {content: \"▸\";float: left;margin-right: 0.25em;color: #696969;}#sk-container-id-5 label.sk-toggleable__label-arrow:hover:before {color: black;}#sk-container-id-5 div.sk-estimator:hover label.sk-toggleable__label-arrow:before {color: black;}#sk-container-id-5 div.sk-toggleable__content {max-height: 0;max-width: 0;overflow: hidden;text-align: left;background-color: #f0f8ff;}#sk-container-id-5 div.sk-toggleable__content pre {margin: 0.2em;color: black;border-radius: 0.25em;background-color: #f0f8ff;}#sk-container-id-5 input.sk-toggleable__control:checked~div.sk-toggleable__content {max-height: 200px;max-width: 100%;overflow: auto;}#sk-container-id-5 input.sk-toggleable__control:checked~label.sk-toggleable__label-arrow:before {content: \"▾\";}#sk-container-id-5 div.sk-estimator input.sk-toggleable__control:checked~label.sk-toggleable__label {background-color: #d4ebff;}#sk-container-id-5 div.sk-label input.sk-toggleable__control:checked~label.sk-toggleable__label {background-color: #d4ebff;}#sk-container-id-5 input.sk-hidden--visually {border: 0;clip: rect(1px 1px 1px 1px);clip: rect(1px, 1px, 1px, 1px);height: 1px;margin: -1px;overflow: hidden;padding: 0;position: absolute;width: 1px;}#sk-container-id-5 div.sk-estimator {font-family: monospace;background-color: #f0f8ff;border: 1px dotted black;border-radius: 0.25em;box-sizing: border-box;margin-bottom: 0.5em;}#sk-container-id-5 div.sk-estimator:hover {background-color: #d4ebff;}#sk-container-id-5 div.sk-parallel-item::after {content: \"\";width: 100%;border-bottom: 1px solid gray;flex-grow: 1;}#sk-container-id-5 div.sk-label:hover label.sk-toggleable__label {background-color: #d4ebff;}#sk-container-id-5 div.sk-serial::before {content: \"\";position: absolute;border-left: 1px solid gray;box-sizing: border-box;top: 0;bottom: 0;left: 50%;z-index: 0;}#sk-container-id-5 div.sk-serial {display: flex;flex-direction: column;align-items: center;background-color: white;padding-right: 0.2em;padding-left: 0.2em;position: relative;}#sk-container-id-5 div.sk-item {position: relative;z-index: 1;}#sk-container-id-5 div.sk-parallel {display: flex;align-items: stretch;justify-content: center;background-color: white;position: relative;}#sk-container-id-5 div.sk-item::before, #sk-container-id-5 div.sk-parallel-item::before {content: \"\";position: absolute;border-left: 1px solid gray;box-sizing: border-box;top: 0;bottom: 0;left: 50%;z-index: -1;}#sk-container-id-5 div.sk-parallel-item {display: flex;flex-direction: column;z-index: 1;position: relative;background-color: white;}#sk-container-id-5 div.sk-parallel-item:first-child::after {align-self: flex-end;width: 50%;}#sk-container-id-5 div.sk-parallel-item:last-child::after {align-self: flex-start;width: 50%;}#sk-container-id-5 div.sk-parallel-item:only-child::after {width: 0;}#sk-container-id-5 div.sk-dashed-wrapped {border: 1px dashed gray;margin: 0 0.4em 0.5em 0.4em;box-sizing: border-box;padding-bottom: 0.4em;background-color: white;}#sk-container-id-5 div.sk-label label {font-family: monospace;font-weight: bold;display: inline-block;line-height: 1.2em;}#sk-container-id-5 div.sk-label-container {text-align: center;}#sk-container-id-5 div.sk-container {/* jupyter's `normalize.less` sets `[hidden] { display: none; }` but bootstrap.min.css set `[hidden] { display: none !important; }` so we also need the `!important` here to be able to override the default hidden behavior on the sphinx rendered scikit-learn.org. See: https://github.com/scikit-learn/scikit-learn/issues/21755 */display: inline-block !important;position: relative;}#sk-container-id-5 div.sk-text-repr-fallback {display: none;}</style><div id=\"sk-container-id-5\" class=\"sk-top-container\"><div class=\"sk-text-repr-fallback\"><pre>KNeighborsRegressor()</pre><b>In a Jupyter environment, please rerun this cell to show the HTML representation or trust the notebook. <br />On GitHub, the HTML representation is unable to render, please try loading this page with nbviewer.org.</b></div><div class=\"sk-container\" hidden><div class=\"sk-item\"><div class=\"sk-estimator sk-toggleable\"><input class=\"sk-toggleable__control sk-hidden--visually\" id=\"sk-estimator-id-5\" type=\"checkbox\" checked><label for=\"sk-estimator-id-5\" class=\"sk-toggleable__label sk-toggleable__label-arrow\">KNeighborsRegressor</label><div class=\"sk-toggleable__content\"><pre>KNeighborsRegressor()</pre></div></div></div></div></div>"
      ],
      "text/plain": [
       "KNeighborsRegressor()"
      ]
     },
     "execution_count": 68,
     "metadata": {},
     "output_type": "execute_result"
    }
   ],
   "source": [
    "k = KNeighborsRegressor()\n",
    "k.fit(x_sc,y)"
   ]
  },
  {
   "cell_type": "code",
   "execution_count": 69,
   "id": "a978e5a2-e13a-4971-9026-4670c59f9838",
   "metadata": {},
   "outputs": [
    {
     "data": {
      "text/plain": [
       "18473700.885086358"
      ]
     },
     "execution_count": 69,
     "metadata": {},
     "output_type": "execute_result"
    }
   ],
   "source": [
    "mean_squared_error(k.predict(x_sc),y,squared=False)"
   ]
  },
  {
   "cell_type": "code",
   "execution_count": 70,
   "id": "a84b9cf1-057f-4a0a-9efc-9fc3789f111d",
   "metadata": {},
   "outputs": [],
   "source": [
    "y_test = k.predict(x_test)"
   ]
  },
  {
   "cell_type": "code",
   "execution_count": 71,
   "id": "482bb9f7-5eed-4358-abf6-b15846c96283",
   "metadata": {},
   "outputs": [],
   "source": [
    "d = pd.DataFrame({'Registration Number':test['Registration Number'].values,'Annual Turnover':y_test})"
   ]
  },
  {
   "cell_type": "code",
   "execution_count": 72,
   "id": "c68773e8-4f43-4cb1-8d29-9f95cc19f57c",
   "metadata": {},
   "outputs": [],
   "source": [
    "d.to_csv('submission.csv',index=False)"
   ]
  },
  {
   "cell_type": "markdown",
   "id": "cc3c840c-5054-4bac-87c0-3e764c99d65f",
   "metadata": {},
   "source": [
    "# SVM"
   ]
  },
  {
   "cell_type": "code",
   "execution_count": 73,
   "id": "832102e6-869b-4c53-85b4-cd662ca66833",
   "metadata": {},
   "outputs": [],
   "source": [
    "from sklearn.svm import SVR"
   ]
  },
  {
   "cell_type": "code",
   "execution_count": 74,
   "id": "1e78ccbf-0a6d-4be1-92e6-5361c141c241",
   "metadata": {},
   "outputs": [
    {
     "data": {
      "text/html": [
       "<style>#sk-container-id-6 {color: black;background-color: white;}#sk-container-id-6 pre{padding: 0;}#sk-container-id-6 div.sk-toggleable {background-color: white;}#sk-container-id-6 label.sk-toggleable__label {cursor: pointer;display: block;width: 100%;margin-bottom: 0;padding: 0.3em;box-sizing: border-box;text-align: center;}#sk-container-id-6 label.sk-toggleable__label-arrow:before {content: \"▸\";float: left;margin-right: 0.25em;color: #696969;}#sk-container-id-6 label.sk-toggleable__label-arrow:hover:before {color: black;}#sk-container-id-6 div.sk-estimator:hover label.sk-toggleable__label-arrow:before {color: black;}#sk-container-id-6 div.sk-toggleable__content {max-height: 0;max-width: 0;overflow: hidden;text-align: left;background-color: #f0f8ff;}#sk-container-id-6 div.sk-toggleable__content pre {margin: 0.2em;color: black;border-radius: 0.25em;background-color: #f0f8ff;}#sk-container-id-6 input.sk-toggleable__control:checked~div.sk-toggleable__content {max-height: 200px;max-width: 100%;overflow: auto;}#sk-container-id-6 input.sk-toggleable__control:checked~label.sk-toggleable__label-arrow:before {content: \"▾\";}#sk-container-id-6 div.sk-estimator input.sk-toggleable__control:checked~label.sk-toggleable__label {background-color: #d4ebff;}#sk-container-id-6 div.sk-label input.sk-toggleable__control:checked~label.sk-toggleable__label {background-color: #d4ebff;}#sk-container-id-6 input.sk-hidden--visually {border: 0;clip: rect(1px 1px 1px 1px);clip: rect(1px, 1px, 1px, 1px);height: 1px;margin: -1px;overflow: hidden;padding: 0;position: absolute;width: 1px;}#sk-container-id-6 div.sk-estimator {font-family: monospace;background-color: #f0f8ff;border: 1px dotted black;border-radius: 0.25em;box-sizing: border-box;margin-bottom: 0.5em;}#sk-container-id-6 div.sk-estimator:hover {background-color: #d4ebff;}#sk-container-id-6 div.sk-parallel-item::after {content: \"\";width: 100%;border-bottom: 1px solid gray;flex-grow: 1;}#sk-container-id-6 div.sk-label:hover label.sk-toggleable__label {background-color: #d4ebff;}#sk-container-id-6 div.sk-serial::before {content: \"\";position: absolute;border-left: 1px solid gray;box-sizing: border-box;top: 0;bottom: 0;left: 50%;z-index: 0;}#sk-container-id-6 div.sk-serial {display: flex;flex-direction: column;align-items: center;background-color: white;padding-right: 0.2em;padding-left: 0.2em;position: relative;}#sk-container-id-6 div.sk-item {position: relative;z-index: 1;}#sk-container-id-6 div.sk-parallel {display: flex;align-items: stretch;justify-content: center;background-color: white;position: relative;}#sk-container-id-6 div.sk-item::before, #sk-container-id-6 div.sk-parallel-item::before {content: \"\";position: absolute;border-left: 1px solid gray;box-sizing: border-box;top: 0;bottom: 0;left: 50%;z-index: -1;}#sk-container-id-6 div.sk-parallel-item {display: flex;flex-direction: column;z-index: 1;position: relative;background-color: white;}#sk-container-id-6 div.sk-parallel-item:first-child::after {align-self: flex-end;width: 50%;}#sk-container-id-6 div.sk-parallel-item:last-child::after {align-self: flex-start;width: 50%;}#sk-container-id-6 div.sk-parallel-item:only-child::after {width: 0;}#sk-container-id-6 div.sk-dashed-wrapped {border: 1px dashed gray;margin: 0 0.4em 0.5em 0.4em;box-sizing: border-box;padding-bottom: 0.4em;background-color: white;}#sk-container-id-6 div.sk-label label {font-family: monospace;font-weight: bold;display: inline-block;line-height: 1.2em;}#sk-container-id-6 div.sk-label-container {text-align: center;}#sk-container-id-6 div.sk-container {/* jupyter's `normalize.less` sets `[hidden] { display: none; }` but bootstrap.min.css set `[hidden] { display: none !important; }` so we also need the `!important` here to be able to override the default hidden behavior on the sphinx rendered scikit-learn.org. See: https://github.com/scikit-learn/scikit-learn/issues/21755 */display: inline-block !important;position: relative;}#sk-container-id-6 div.sk-text-repr-fallback {display: none;}</style><div id=\"sk-container-id-6\" class=\"sk-top-container\"><div class=\"sk-text-repr-fallback\"><pre>SVR()</pre><b>In a Jupyter environment, please rerun this cell to show the HTML representation or trust the notebook. <br />On GitHub, the HTML representation is unable to render, please try loading this page with nbviewer.org.</b></div><div class=\"sk-container\" hidden><div class=\"sk-item\"><div class=\"sk-estimator sk-toggleable\"><input class=\"sk-toggleable__control sk-hidden--visually\" id=\"sk-estimator-id-6\" type=\"checkbox\" checked><label for=\"sk-estimator-id-6\" class=\"sk-toggleable__label sk-toggleable__label-arrow\">SVR</label><div class=\"sk-toggleable__content\"><pre>SVR()</pre></div></div></div></div></div>"
      ],
      "text/plain": [
       "SVR()"
      ]
     },
     "execution_count": 74,
     "metadata": {},
     "output_type": "execute_result"
    }
   ],
   "source": [
    "s = SVR()\n",
    "s.fit(x_sc, y)"
   ]
  },
  {
   "cell_type": "code",
   "execution_count": 75,
   "id": "bc15047f-fdc3-4dac-a8a4-8e29cc8c7b22",
   "metadata": {},
   "outputs": [
    {
     "data": {
      "text/plain": [
       "21660299.986688375"
      ]
     },
     "execution_count": 75,
     "metadata": {},
     "output_type": "execute_result"
    }
   ],
   "source": [
    "mean_squared_error(s.predict(x_sc),y,squared=False)"
   ]
  },
  {
   "cell_type": "code",
   "execution_count": 76,
   "id": "4689b520-5d19-440a-b0f4-c9fb078b7d01",
   "metadata": {},
   "outputs": [],
   "source": [
    "y_test = s.predict(x_test)"
   ]
  },
  {
   "cell_type": "code",
   "execution_count": 77,
   "id": "4c7e9549-f883-415d-8c05-9db5027532b2",
   "metadata": {},
   "outputs": [],
   "source": [
    "d = pd.DataFrame({'Registration Number':test['Registration Number'].values,'Annual Turnover':y_test})"
   ]
  },
  {
   "cell_type": "code",
   "execution_count": 78,
   "id": "fda7de98-4e5a-4a23-b61b-25f9e5800f1c",
   "metadata": {},
   "outputs": [],
   "source": [
    "d.to_csv('submission.csv',index=False)"
   ]
  },
  {
   "cell_type": "markdown",
   "id": "25f55c42-a15c-4b43-b534-753d4801d279",
   "metadata": {},
   "source": [
    "# Tunned Elastic net"
   ]
  },
  {
   "cell_type": "code",
   "execution_count": 80,
   "id": "4d929a57-4903-4ae6-8cdd-0f76ffb6c752",
   "metadata": {},
   "outputs": [
    {
     "name": "stdout",
     "output_type": "stream",
     "text": [
      "MAE: -10896491.397\n",
      "Config: {'alpha': 1.0, 'l1_ratio': 0.56}\n"
     ]
    }
   ],
   "source": [
    "# grid search hyperparameters for the elastic net\n",
    "from numpy import arange\n",
    "from pandas import read_csv\n",
    "from sklearn.model_selection import GridSearchCV\n",
    "from sklearn.model_selection import RepeatedKFold\n",
    "from sklearn.linear_model import ElasticNet\n",
    "model = ElasticNet()\n",
    "# define model evaluation method\n",
    "cv = RepeatedKFold(n_splits=10, n_repeats=3, random_state=1)\n",
    "# define grid\n",
    "grid = dict()\n",
    "grid['alpha'] = [1e-5, 1e-4, 1e-3, 1e-2, 1e-1, 0.0, 1.0, 10.0, 100.0]\n",
    "grid['l1_ratio'] = arange(0, 1, 0.01)\n",
    "# define search\n",
    "search = GridSearchCV(model, grid, scoring='neg_mean_absolute_error', cv=cv, n_jobs=-1)\n",
    "# perform the search\n",
    "results = search.fit(x_sc, y)\n",
    "# summarize\n",
    "print('MAE: %.3f' % results.best_score_)\n",
    "print('Config: %s' % results.best_params_)"
   ]
  },
  {
   "cell_type": "code",
   "execution_count": 81,
   "id": "5518a6da-7f5d-4b76-a3ee-cac58169ee44",
   "metadata": {},
   "outputs": [
    {
     "data": {
      "text/html": [
       "<style>#sk-container-id-7 {color: black;background-color: white;}#sk-container-id-7 pre{padding: 0;}#sk-container-id-7 div.sk-toggleable {background-color: white;}#sk-container-id-7 label.sk-toggleable__label {cursor: pointer;display: block;width: 100%;margin-bottom: 0;padding: 0.3em;box-sizing: border-box;text-align: center;}#sk-container-id-7 label.sk-toggleable__label-arrow:before {content: \"▸\";float: left;margin-right: 0.25em;color: #696969;}#sk-container-id-7 label.sk-toggleable__label-arrow:hover:before {color: black;}#sk-container-id-7 div.sk-estimator:hover label.sk-toggleable__label-arrow:before {color: black;}#sk-container-id-7 div.sk-toggleable__content {max-height: 0;max-width: 0;overflow: hidden;text-align: left;background-color: #f0f8ff;}#sk-container-id-7 div.sk-toggleable__content pre {margin: 0.2em;color: black;border-radius: 0.25em;background-color: #f0f8ff;}#sk-container-id-7 input.sk-toggleable__control:checked~div.sk-toggleable__content {max-height: 200px;max-width: 100%;overflow: auto;}#sk-container-id-7 input.sk-toggleable__control:checked~label.sk-toggleable__label-arrow:before {content: \"▾\";}#sk-container-id-7 div.sk-estimator input.sk-toggleable__control:checked~label.sk-toggleable__label {background-color: #d4ebff;}#sk-container-id-7 div.sk-label input.sk-toggleable__control:checked~label.sk-toggleable__label {background-color: #d4ebff;}#sk-container-id-7 input.sk-hidden--visually {border: 0;clip: rect(1px 1px 1px 1px);clip: rect(1px, 1px, 1px, 1px);height: 1px;margin: -1px;overflow: hidden;padding: 0;position: absolute;width: 1px;}#sk-container-id-7 div.sk-estimator {font-family: monospace;background-color: #f0f8ff;border: 1px dotted black;border-radius: 0.25em;box-sizing: border-box;margin-bottom: 0.5em;}#sk-container-id-7 div.sk-estimator:hover {background-color: #d4ebff;}#sk-container-id-7 div.sk-parallel-item::after {content: \"\";width: 100%;border-bottom: 1px solid gray;flex-grow: 1;}#sk-container-id-7 div.sk-label:hover label.sk-toggleable__label {background-color: #d4ebff;}#sk-container-id-7 div.sk-serial::before {content: \"\";position: absolute;border-left: 1px solid gray;box-sizing: border-box;top: 0;bottom: 0;left: 50%;z-index: 0;}#sk-container-id-7 div.sk-serial {display: flex;flex-direction: column;align-items: center;background-color: white;padding-right: 0.2em;padding-left: 0.2em;position: relative;}#sk-container-id-7 div.sk-item {position: relative;z-index: 1;}#sk-container-id-7 div.sk-parallel {display: flex;align-items: stretch;justify-content: center;background-color: white;position: relative;}#sk-container-id-7 div.sk-item::before, #sk-container-id-7 div.sk-parallel-item::before {content: \"\";position: absolute;border-left: 1px solid gray;box-sizing: border-box;top: 0;bottom: 0;left: 50%;z-index: -1;}#sk-container-id-7 div.sk-parallel-item {display: flex;flex-direction: column;z-index: 1;position: relative;background-color: white;}#sk-container-id-7 div.sk-parallel-item:first-child::after {align-self: flex-end;width: 50%;}#sk-container-id-7 div.sk-parallel-item:last-child::after {align-self: flex-start;width: 50%;}#sk-container-id-7 div.sk-parallel-item:only-child::after {width: 0;}#sk-container-id-7 div.sk-dashed-wrapped {border: 1px dashed gray;margin: 0 0.4em 0.5em 0.4em;box-sizing: border-box;padding-bottom: 0.4em;background-color: white;}#sk-container-id-7 div.sk-label label {font-family: monospace;font-weight: bold;display: inline-block;line-height: 1.2em;}#sk-container-id-7 div.sk-label-container {text-align: center;}#sk-container-id-7 div.sk-container {/* jupyter's `normalize.less` sets `[hidden] { display: none; }` but bootstrap.min.css set `[hidden] { display: none !important; }` so we also need the `!important` here to be able to override the default hidden behavior on the sphinx rendered scikit-learn.org. See: https://github.com/scikit-learn/scikit-learn/issues/21755 */display: inline-block !important;position: relative;}#sk-container-id-7 div.sk-text-repr-fallback {display: none;}</style><div id=\"sk-container-id-7\" class=\"sk-top-container\"><div class=\"sk-text-repr-fallback\"><pre>ElasticNet(l1_ratio=0.56)</pre><b>In a Jupyter environment, please rerun this cell to show the HTML representation or trust the notebook. <br />On GitHub, the HTML representation is unable to render, please try loading this page with nbviewer.org.</b></div><div class=\"sk-container\" hidden><div class=\"sk-item\"><div class=\"sk-estimator sk-toggleable\"><input class=\"sk-toggleable__control sk-hidden--visually\" id=\"sk-estimator-id-7\" type=\"checkbox\" checked><label for=\"sk-estimator-id-7\" class=\"sk-toggleable__label sk-toggleable__label-arrow\">ElasticNet</label><div class=\"sk-toggleable__content\"><pre>ElasticNet(l1_ratio=0.56)</pre></div></div></div></div></div>"
      ],
      "text/plain": [
       "ElasticNet(l1_ratio=0.56)"
      ]
     },
     "execution_count": 81,
     "metadata": {},
     "output_type": "execute_result"
    }
   ],
   "source": [
    "e_tunned = ElasticNet(alpha = 1.0, l1_ratio= 0.56)\n",
    "e_tunned.fit(x_sc,y)"
   ]
  },
  {
   "cell_type": "code",
   "execution_count": 82,
   "id": "7a5eb25c-292f-4320-bd9c-fdedfb5b6786",
   "metadata": {},
   "outputs": [
    {
     "data": {
      "text/plain": [
       "20171917.936347514"
      ]
     },
     "execution_count": 82,
     "metadata": {},
     "output_type": "execute_result"
    }
   ],
   "source": [
    "mean_squared_error(e_tunned.predict(x_sc),y,squared=False)"
   ]
  },
  {
   "cell_type": "code",
   "execution_count": 83,
   "id": "eb06bef6-d7a0-4abb-888e-688e36e11e48",
   "metadata": {},
   "outputs": [],
   "source": [
    "y_test = e_tunned.predict(x_test)"
   ]
  },
  {
   "cell_type": "code",
   "execution_count": 84,
   "id": "da9aa7e1-fbc1-4613-a976-089c6d093abe",
   "metadata": {},
   "outputs": [],
   "source": [
    "d = pd.DataFrame({'Registration Number':test['Registration Number'].values,'Annual Turnover':y_test})"
   ]
  },
  {
   "cell_type": "code",
   "execution_count": 85,
   "id": "df074abb-8af0-4042-8a49-1ef9d8815578",
   "metadata": {},
   "outputs": [],
   "source": [
    "d.to_csv('submission.csv',index=False)"
   ]
  },
  {
   "cell_type": "markdown",
   "id": "afe5c5e7-b8f9-4937-a89e-6bb04027ee32",
   "metadata": {},
   "source": [
    "# Neural NEtwork"
   ]
  },
  {
   "cell_type": "code",
   "execution_count": 86,
   "id": "98a1a61c-24c8-402a-bc1a-9daa98a1f9ce",
   "metadata": {},
   "outputs": [],
   "source": [
    "import tensorflow as tf"
   ]
  },
  {
   "cell_type": "code",
   "execution_count": 109,
   "id": "eefcba27-b25c-457d-aa96-4088dba5b2e8",
   "metadata": {},
   "outputs": [],
   "source": [
    "model = tf.keras.models.Sequential()\n",
    "model.add(tf.keras.layers.Dense(1024,activation = 'relu'))\n",
    "model.add(tf.keras.layers.Dropout(0.5))\n",
    "model.add(tf.keras.layers.BatchNormalization())\n",
    "model.add(tf.keras.layers.Dense(512,activation = 'relu'))\n",
    "model.add(tf.keras.layers.Dropout(0.5))\n",
    "model.add(tf.keras.layers.BatchNormalization())\n",
    "model.add(tf.keras.layers.Dense(264,activation = 'relu'))\n",
    "model.add(tf.keras.layers.Dropout(0.5))\n",
    "model.add(tf.keras.layers.BatchNormalization())\n",
    "model.add(tf.keras.layers.Dense(128,activation = 'relu'))\n",
    "model.add(tf.keras.layers.Dropout(0.3))\n",
    "model.add(tf.keras.layers.BatchNormalization())\n",
    "model.add(tf.keras.layers.Dense(64,activation = 'relu'))\n",
    "model.add(tf.keras.layers.Dense(1,activation = 'relu'))"
   ]
  },
  {
   "cell_type": "code",
   "execution_count": 110,
   "id": "2599b615-09a9-4994-bf83-4af7886e6731",
   "metadata": {},
   "outputs": [
    {
     "name": "stdout",
     "output_type": "stream",
     "text": [
      "Epoch 1/100\n",
      "175/175 [==============================] - 12s 28ms/step - loss: 1464748667305984.0000 - mean_squared_error: 1464748667305984.0000 - val_loss: 1204686115831808.0000 - val_mean_squared_error: 1204686115831808.0000\n",
      "Epoch 2/100\n",
      "175/175 [==============================] - 4s 24ms/step - loss: 1464693772255232.0000 - mean_squared_error: 1464693772255232.0000 - val_loss: 1204535791976448.0000 - val_mean_squared_error: 1204535791976448.0000\n",
      "Epoch 3/100\n",
      "175/175 [==============================] - 4s 24ms/step - loss: 1464488821784576.0000 - mean_squared_error: 1464488821784576.0000 - val_loss: 1204226151677952.0000 - val_mean_squared_error: 1204226151677952.0000\n",
      "Epoch 4/100\n",
      "175/175 [==============================] - 4s 26ms/step - loss: 1464052345733120.0000 - mean_squared_error: 1464052345733120.0000 - val_loss: 1203558418481152.0000 - val_mean_squared_error: 1203558418481152.0000\n",
      "Epoch 5/100\n",
      "175/175 [==============================] - 4s 25ms/step - loss: 1463299786932224.0000 - mean_squared_error: 1463299786932224.0000 - val_loss: 1202736737550336.0000 - val_mean_squared_error: 1202736737550336.0000\n",
      "Epoch 6/100\n",
      "175/175 [==============================] - 4s 23ms/step - loss: 1462191416934400.0000 - mean_squared_error: 1462191416934400.0000 - val_loss: 1201385701900288.0000 - val_mean_squared_error: 1201385701900288.0000\n",
      "Epoch 7/100\n",
      "175/175 [==============================] - 4s 24ms/step - loss: 1460606305566720.0000 - mean_squared_error: 1460606305566720.0000 - val_loss: 1199803006451712.0000 - val_mean_squared_error: 1199803006451712.0000\n",
      "Epoch 8/100\n",
      "175/175 [==============================] - 4s 23ms/step - loss: 1458514253840384.0000 - mean_squared_error: 1458514253840384.0000 - val_loss: 1197496877449216.0000 - val_mean_squared_error: 1197496877449216.0000\n",
      "Epoch 9/100\n",
      "175/175 [==============================] - 4s 24ms/step - loss: 1455879694057472.0000 - mean_squared_error: 1455879694057472.0000 - val_loss: 1194506774904832.0000 - val_mean_squared_error: 1194506774904832.0000\n",
      "Epoch 10/100\n",
      "175/175 [==============================] - 4s 23ms/step - loss: 1452596325777408.0000 - mean_squared_error: 1452596325777408.0000 - val_loss: 1191694779285504.0000 - val_mean_squared_error: 1191694779285504.0000\n",
      "Epoch 11/100\n",
      "175/175 [==============================] - 4s 23ms/step - loss: 1448749914128384.0000 - mean_squared_error: 1448749914128384.0000 - val_loss: 1187683548266496.0000 - val_mean_squared_error: 1187683548266496.0000\n",
      "Epoch 12/100\n",
      "175/175 [==============================] - 4s 23ms/step - loss: 1444416560562176.0000 - mean_squared_error: 1444416560562176.0000 - val_loss: 1182649041289216.0000 - val_mean_squared_error: 1182649041289216.0000\n",
      "Epoch 13/100\n",
      "175/175 [==============================] - 4s 23ms/step - loss: 1439232803471360.0000 - mean_squared_error: 1439232803471360.0000 - val_loss: 1176983710990336.0000 - val_mean_squared_error: 1176983710990336.0000\n",
      "Epoch 14/100\n",
      "175/175 [==============================] - 4s 23ms/step - loss: 1433594719371264.0000 - mean_squared_error: 1433594719371264.0000 - val_loss: 1173058513534976.0000 - val_mean_squared_error: 1173058513534976.0000\n",
      "Epoch 15/100\n",
      "175/175 [==============================] - 4s 24ms/step - loss: 1427358561075200.0000 - mean_squared_error: 1427358561075200.0000 - val_loss: 1165031353876480.0000 - val_mean_squared_error: 1165031353876480.0000\n",
      "Epoch 16/100\n",
      "175/175 [==============================] - 4s 23ms/step - loss: 1420132144381952.0000 - mean_squared_error: 1420132144381952.0000 - val_loss: 1161327615672320.0000 - val_mean_squared_error: 1161327615672320.0000\n",
      "Epoch 17/100\n",
      "175/175 [==============================] - 4s 24ms/step - loss: 1412361609019392.0000 - mean_squared_error: 1412361609019392.0000 - val_loss: 1155880926052352.0000 - val_mean_squared_error: 1155880926052352.0000\n",
      "Epoch 18/100\n",
      "175/175 [==============================] - 4s 23ms/step - loss: 1404086280781824.0000 - mean_squared_error: 1404086280781824.0000 - val_loss: 1146353480630272.0000 - val_mean_squared_error: 1146353480630272.0000\n",
      "Epoch 19/100\n",
      "175/175 [==============================] - 4s 23ms/step - loss: 1395066849460224.0000 - mean_squared_error: 1395066849460224.0000 - val_loss: 1136980117159936.0000 - val_mean_squared_error: 1136980117159936.0000\n",
      "Epoch 20/100\n",
      "175/175 [==============================] - 4s 23ms/step - loss: 1385759118458880.0000 - mean_squared_error: 1385759118458880.0000 - val_loss: 1129949792567296.0000 - val_mean_squared_error: 1129949792567296.0000\n",
      "Epoch 21/100\n",
      "175/175 [==============================] - 4s 23ms/step - loss: 1375117129023488.0000 - mean_squared_error: 1375117129023488.0000 - val_loss: 1116438160998400.0000 - val_mean_squared_error: 1116438160998400.0000\n",
      "Epoch 22/100\n",
      "175/175 [==============================] - 4s 24ms/step - loss: 1364428566036480.0000 - mean_squared_error: 1364428566036480.0000 - val_loss: 1111561628286976.0000 - val_mean_squared_error: 1111561628286976.0000\n",
      "Epoch 23/100\n",
      "175/175 [==============================] - 4s 22ms/step - loss: 1352370713788416.0000 - mean_squared_error: 1352370713788416.0000 - val_loss: 1090197856976896.0000 - val_mean_squared_error: 1090197856976896.0000\n",
      "Epoch 24/100\n",
      "175/175 [==============================] - 4s 23ms/step - loss: 1339073763475456.0000 - mean_squared_error: 1339073763475456.0000 - val_loss: 1095764335919104.0000 - val_mean_squared_error: 1095764335919104.0000\n",
      "Epoch 25/100\n",
      "175/175 [==============================] - 4s 23ms/step - loss: 1326514742231040.0000 - mean_squared_error: 1326514742231040.0000 - val_loss: 1080862477123584.0000 - val_mean_squared_error: 1080862477123584.0000\n",
      "Epoch 26/100\n",
      "175/175 [==============================] - 4s 23ms/step - loss: 1312534221029376.0000 - mean_squared_error: 1312534221029376.0000 - val_loss: 1073004297584640.0000 - val_mean_squared_error: 1073004297584640.0000\n",
      "Epoch 27/100\n",
      "175/175 [==============================] - 4s 23ms/step - loss: 1298695702183936.0000 - mean_squared_error: 1298695702183936.0000 - val_loss: 1070364033548288.0000 - val_mean_squared_error: 1070364033548288.0000\n",
      "Epoch 28/100\n",
      "175/175 [==============================] - 4s 24ms/step - loss: 1283011286925312.0000 - mean_squared_error: 1283011286925312.0000 - val_loss: 1060546275180544.0000 - val_mean_squared_error: 1060546275180544.0000\n",
      "Epoch 29/100\n",
      "175/175 [==============================] - 4s 23ms/step - loss: 1268129493680128.0000 - mean_squared_error: 1268129493680128.0000 - val_loss: 1035851958059008.0000 - val_mean_squared_error: 1035851958059008.0000\n",
      "Epoch 30/100\n",
      "175/175 [==============================] - 4s 23ms/step - loss: 1252787199410176.0000 - mean_squared_error: 1252787199410176.0000 - val_loss: 1037415795916800.0000 - val_mean_squared_error: 1037415795916800.0000\n",
      "Epoch 31/100\n",
      "175/175 [==============================] - 4s 23ms/step - loss: 1234113084260352.0000 - mean_squared_error: 1234113084260352.0000 - val_loss: 1011189718974464.0000 - val_mean_squared_error: 1011189718974464.0000\n",
      "Epoch 32/100\n",
      "175/175 [==============================] - 4s 24ms/step - loss: 1217930050142208.0000 - mean_squared_error: 1217930050142208.0000 - val_loss: 999328093044736.0000 - val_mean_squared_error: 999328093044736.0000\n",
      "Epoch 33/100\n",
      "175/175 [==============================] - 4s 23ms/step - loss: 1198854355550208.0000 - mean_squared_error: 1198854355550208.0000 - val_loss: 985419512545280.0000 - val_mean_squared_error: 985419512545280.0000\n",
      "Epoch 34/100\n",
      "175/175 [==============================] - 4s 23ms/step - loss: 1181354511302656.0000 - mean_squared_error: 1181354511302656.0000 - val_loss: 1000933471289344.0000 - val_mean_squared_error: 1000933471289344.0000\n",
      "Epoch 35/100\n",
      "175/175 [==============================] - 4s 23ms/step - loss: 1162742941614080.0000 - mean_squared_error: 1162742941614080.0000 - val_loss: 977428189020160.0000 - val_mean_squared_error: 977428189020160.0000\n",
      "Epoch 36/100\n",
      "175/175 [==============================] - 4s 24ms/step - loss: 1144600462884864.0000 - mean_squared_error: 1144600462884864.0000 - val_loss: 966533534711808.0000 - val_mean_squared_error: 966533534711808.0000\n",
      "Epoch 37/100\n",
      "175/175 [==============================] - 4s 23ms/step - loss: 1123569148887040.0000 - mean_squared_error: 1123569148887040.0000 - val_loss: 935935315279872.0000 - val_mean_squared_error: 935935315279872.0000\n",
      "Epoch 38/100\n",
      "175/175 [==============================] - 4s 24ms/step - loss: 1103492122935296.0000 - mean_squared_error: 1103492122935296.0000 - val_loss: 928391943421952.0000 - val_mean_squared_error: 928391943421952.0000\n",
      "Epoch 39/100\n",
      "175/175 [==============================] - 4s 23ms/step - loss: 1081119369854976.0000 - mean_squared_error: 1081119369854976.0000 - val_loss: 953911162699776.0000 - val_mean_squared_error: 953911162699776.0000\n",
      "Epoch 40/100\n",
      "175/175 [==============================] - 4s 23ms/step - loss: 1057408868679680.0000 - mean_squared_error: 1057408868679680.0000 - val_loss: 979130069811200.0000 - val_mean_squared_error: 979130069811200.0000\n",
      "Epoch 41/100\n",
      "175/175 [==============================] - 4s 24ms/step - loss: 1034626550202368.0000 - mean_squared_error: 1034626550202368.0000 - val_loss: 903582601707520.0000 - val_mean_squared_error: 903582601707520.0000\n",
      "Epoch 42/100\n",
      "175/175 [==============================] - 4s 23ms/step - loss: 1011274745905152.0000 - mean_squared_error: 1011274745905152.0000 - val_loss: 1000402103304192.0000 - val_mean_squared_error: 1000402103304192.0000\n",
      "Epoch 43/100\n",
      "175/175 [==============================] - 4s 23ms/step - loss: 986007990173696.0000 - mean_squared_error: 986007990173696.0000 - val_loss: 1035494670467072.0000 - val_mean_squared_error: 1035494670467072.0000\n",
      "Epoch 44/100\n",
      "175/175 [==============================] - 4s 23ms/step - loss: 963528802435072.0000 - mean_squared_error: 963528802435072.0000 - val_loss: 1118015152193536.0000 - val_mean_squared_error: 1118015152193536.0000\n",
      "Epoch 45/100\n",
      "175/175 [==============================] - 4s 23ms/step - loss: 932666643841024.0000 - mean_squared_error: 932666643841024.0000 - val_loss: 1090546420416512.0000 - val_mean_squared_error: 1090546420416512.0000\n",
      "Epoch 46/100\n",
      "175/175 [==============================] - 4s 23ms/step - loss: 908920373641216.0000 - mean_squared_error: 908920373641216.0000 - val_loss: 1264365491716096.0000 - val_mean_squared_error: 1264365491716096.0000\n",
      "Epoch 47/100\n",
      "175/175 [==============================] - 4s 24ms/step - loss: 884265180987392.0000 - mean_squared_error: 884265180987392.0000 - val_loss: 1918016296058880.0000 - val_mean_squared_error: 1918016296058880.0000\n",
      "Epoch 48/100\n",
      "175/175 [==============================] - 4s 23ms/step - loss: 860101426544640.0000 - mean_squared_error: 860101426544640.0000 - val_loss: 1867930803372032.0000 - val_mean_squared_error: 1867930803372032.0000\n",
      "Epoch 49/100\n",
      "175/175 [==============================] - 4s 24ms/step - loss: 835605818769408.0000 - mean_squared_error: 835605818769408.0000 - val_loss: 2324935322107904.0000 - val_mean_squared_error: 2324935322107904.0000\n",
      "Epoch 50/100\n",
      "175/175 [==============================] - 4s 23ms/step - loss: 811357574266880.0000 - mean_squared_error: 811357574266880.0000 - val_loss: 2278511020605440.0000 - val_mean_squared_error: 2278511020605440.0000\n",
      "Epoch 51/100\n",
      "175/175 [==============================] - 4s 24ms/step - loss: 784664352522240.0000 - mean_squared_error: 784664352522240.0000 - val_loss: 4562369275494400.0000 - val_mean_squared_error: 4562369275494400.0000\n",
      "Epoch 52/100\n",
      "175/175 [==============================] - 4s 23ms/step - loss: 763593914056704.0000 - mean_squared_error: 763593914056704.0000 - val_loss: 5335831682220032.0000 - val_mean_squared_error: 5335831682220032.0000\n",
      "Epoch 53/100\n",
      "175/175 [==============================] - 4s 23ms/step - loss: 739457607139328.0000 - mean_squared_error: 739457607139328.0000 - val_loss: 4793781576531968.0000 - val_mean_squared_error: 4793781576531968.0000\n",
      "Epoch 54/100\n",
      "175/175 [==============================] - 4s 23ms/step - loss: 715737106743296.0000 - mean_squared_error: 715737106743296.0000 - val_loss: 7081951173279744.0000 - val_mean_squared_error: 7081951173279744.0000\n",
      "Epoch 55/100\n",
      "175/175 [==============================] - 4s 23ms/step - loss: 693840893706240.0000 - mean_squared_error: 693840893706240.0000 - val_loss: 7170894577270784.0000 - val_mean_squared_error: 7170894577270784.0000\n",
      "Epoch 56/100\n",
      "175/175 [==============================] - 4s 24ms/step - loss: 670462312972288.0000 - mean_squared_error: 670462312972288.0000 - val_loss: 13301107841302528.0000 - val_mean_squared_error: 13301107841302528.0000\n",
      "Epoch 57/100\n",
      "175/175 [==============================] - 4s 23ms/step - loss: 652165618073600.0000 - mean_squared_error: 652165618073600.0000 - val_loss: 16176194382725120.0000 - val_mean_squared_error: 16176194382725120.0000\n",
      "Epoch 58/100\n",
      "175/175 [==============================] - 4s 24ms/step - loss: 632622174699520.0000 - mean_squared_error: 632622174699520.0000 - val_loss: 25138729198813184.0000 - val_mean_squared_error: 25138729198813184.0000\n",
      "Epoch 59/100\n",
      "175/175 [==============================] - 4s 24ms/step - loss: 614634449010688.0000 - mean_squared_error: 614634449010688.0000 - val_loss: 31184735334039552.0000 - val_mean_squared_error: 31184735334039552.0000\n",
      "Epoch 60/100\n",
      "175/175 [==============================] - 4s 24ms/step - loss: 592706292154368.0000 - mean_squared_error: 592706292154368.0000 - val_loss: 24682747553382400.0000 - val_mean_squared_error: 24682747553382400.0000\n",
      "Epoch 61/100\n",
      "175/175 [==============================] - 4s 24ms/step - loss: 575114240327680.0000 - mean_squared_error: 575114240327680.0000 - val_loss: 26047462674268160.0000 - val_mean_squared_error: 26047462674268160.0000\n",
      "Epoch 62/100\n",
      "175/175 [==============================] - 4s 23ms/step - loss: 553650946572288.0000 - mean_squared_error: 553650946572288.0000 - val_loss: 30280670488035328.0000 - val_mean_squared_error: 30280670488035328.0000\n",
      "Epoch 63/100\n",
      "175/175 [==============================] - 4s 23ms/step - loss: 533183447695360.0000 - mean_squared_error: 533183447695360.0000 - val_loss: 51698783334957056.0000 - val_mean_squared_error: 51698783334957056.0000\n",
      "Epoch 64/100\n",
      "175/175 [==============================] - 4s 24ms/step - loss: 523304418934784.0000 - mean_squared_error: 523304418934784.0000 - val_loss: 22228367017246720.0000 - val_mean_squared_error: 22228367017246720.0000\n",
      "Epoch 65/100\n",
      "175/175 [==============================] - 4s 23ms/step - loss: 501636644470784.0000 - mean_squared_error: 501636644470784.0000 - val_loss: 44471345513234432.0000 - val_mean_squared_error: 44471345513234432.0000\n",
      "Epoch 66/100\n",
      "175/175 [==============================] - 4s 24ms/step - loss: 488751205711872.0000 - mean_squared_error: 488751205711872.0000 - val_loss: 73178090875912192.0000 - val_mean_squared_error: 73178090875912192.0000\n",
      "Epoch 67/100\n",
      "175/175 [==============================] - 4s 24ms/step - loss: 475810838347776.0000 - mean_squared_error: 475810838347776.0000 - val_loss: 85778786188001280.0000 - val_mean_squared_error: 85778786188001280.0000\n",
      "Epoch 68/100\n",
      "175/175 [==============================] - 4s 23ms/step - loss: 474950100058112.0000 - mean_squared_error: 474950100058112.0000 - val_loss: 277950749885857792.0000 - val_mean_squared_error: 277950749885857792.0000\n",
      "Epoch 69/100\n",
      "175/175 [==============================] - 4s 23ms/step - loss: 452219153416192.0000 - mean_squared_error: 452219153416192.0000 - val_loss: 187479050502012928.0000 - val_mean_squared_error: 187479050502012928.0000\n",
      "Epoch 70/100\n",
      "175/175 [==============================] - 4s 24ms/step - loss: 438716648652800.0000 - mean_squared_error: 438716648652800.0000 - val_loss: 212525822303535104.0000 - val_mean_squared_error: 212525822303535104.0000\n",
      "Epoch 71/100\n",
      "175/175 [==============================] - 4s 23ms/step - loss: 418256397533184.0000 - mean_squared_error: 418256397533184.0000 - val_loss: 169637498656391168.0000 - val_mean_squared_error: 169637498656391168.0000\n",
      "Epoch 72/100\n",
      "175/175 [==============================] - 4s 23ms/step - loss: 417561585909760.0000 - mean_squared_error: 417561585909760.0000 - val_loss: 161585293969850368.0000 - val_mean_squared_error: 161585293969850368.0000\n",
      "Epoch 73/100\n",
      "175/175 [==============================] - 4s 24ms/step - loss: 410287152824320.0000 - mean_squared_error: 410287152824320.0000 - val_loss: 179998935459299328.0000 - val_mean_squared_error: 179998935459299328.0000\n",
      "Epoch 74/100\n",
      "175/175 [==============================] - 4s 24ms/step - loss: 400827151810560.0000 - mean_squared_error: 400827151810560.0000 - val_loss: 263585493030010880.0000 - val_mean_squared_error: 263585493030010880.0000\n",
      "Epoch 75/100\n",
      "175/175 [==============================] - 4s 23ms/step - loss: 389112192303104.0000 - mean_squared_error: 389112192303104.0000 - val_loss: 467828385003864064.0000 - val_mean_squared_error: 467828385003864064.0000\n",
      "Epoch 76/100\n",
      "175/175 [==============================] - 4s 23ms/step - loss: 394725446123520.0000 - mean_squared_error: 394725446123520.0000 - val_loss: 1025095856174399488.0000 - val_mean_squared_error: 1025095856174399488.0000\n",
      "Epoch 77/100\n",
      "175/175 [==============================] - 4s 23ms/step - loss: 384507383382016.0000 - mean_squared_error: 384507383382016.0000 - val_loss: 209123280492167168.0000 - val_mean_squared_error: 209123280492167168.0000\n",
      "Epoch 78/100\n",
      "175/175 [==============================] - 4s 23ms/step - loss: 377786766196736.0000 - mean_squared_error: 377786766196736.0000 - val_loss: 517029365683322880.0000 - val_mean_squared_error: 517029365683322880.0000\n",
      "Epoch 79/100\n",
      "175/175 [==============================] - 4s 23ms/step - loss: 377464442322944.0000 - mean_squared_error: 377464442322944.0000 - val_loss: 1886086715685208064.0000 - val_mean_squared_error: 1886086715685208064.0000\n",
      "Epoch 80/100\n",
      "175/175 [==============================] - 4s 23ms/step - loss: 361664297828352.0000 - mean_squared_error: 361664297828352.0000 - val_loss: 950086348293799936.0000 - val_mean_squared_error: 950086348293799936.0000\n",
      "Epoch 81/100\n",
      "175/175 [==============================] - 4s 23ms/step - loss: 365951983812608.0000 - mean_squared_error: 365951983812608.0000 - val_loss: 1516083873069400064.0000 - val_mean_squared_error: 1516083873069400064.0000\n",
      "Epoch 82/100\n",
      "175/175 [==============================] - 4s 23ms/step - loss: 360280982814720.0000 - mean_squared_error: 360280982814720.0000 - val_loss: 1081950640374022144.0000 - val_mean_squared_error: 1081950640374022144.0000\n",
      "Epoch 83/100\n",
      "175/175 [==============================] - 4s 23ms/step - loss: 358870018949120.0000 - mean_squared_error: 358870018949120.0000 - val_loss: 277966211768123392.0000 - val_mean_squared_error: 277966211768123392.0000\n",
      "Epoch 84/100\n",
      "175/175 [==============================] - 4s 23ms/step - loss: 352981216133120.0000 - mean_squared_error: 352981216133120.0000 - val_loss: 945795504166404096.0000 - val_mean_squared_error: 945795504166404096.0000\n",
      "Epoch 85/100\n",
      "175/175 [==============================] - 4s 23ms/step - loss: 353334309421056.0000 - mean_squared_error: 353334309421056.0000 - val_loss: 1109048379318468608.0000 - val_mean_squared_error: 1109048379318468608.0000\n",
      "Epoch 86/100\n",
      "175/175 [==============================] - 4s 23ms/step - loss: 352292880515072.0000 - mean_squared_error: 352292880515072.0000 - val_loss: 916696928937312256.0000 - val_mean_squared_error: 916696928937312256.0000\n",
      "Epoch 87/100\n",
      "175/175 [==============================] - 4s 23ms/step - loss: 347065905315840.0000 - mean_squared_error: 347065905315840.0000 - val_loss: 1276740532667678720.0000 - val_mean_squared_error: 1276740532667678720.0000\n",
      "Epoch 88/100\n",
      "175/175 [==============================] - 4s 23ms/step - loss: 356375918018560.0000 - mean_squared_error: 356375918018560.0000 - val_loss: 901663581328637952.0000 - val_mean_squared_error: 901663581328637952.0000\n",
      "Epoch 89/100\n",
      "175/175 [==============================] - 4s 23ms/step - loss: 351359597543424.0000 - mean_squared_error: 351359597543424.0000 - val_loss: 2478588380565209088.0000 - val_mean_squared_error: 2478588380565209088.0000\n",
      "Epoch 90/100\n",
      "175/175 [==============================] - 4s 23ms/step - loss: 353248611401728.0000 - mean_squared_error: 353248611401728.0000 - val_loss: 3165713878692659200.0000 - val_mean_squared_error: 3165713878692659200.0000\n",
      "Epoch 91/100\n",
      "175/175 [==============================] - 4s 23ms/step - loss: 352725699133440.0000 - mean_squared_error: 352725699133440.0000 - val_loss: 3701034754175401984.0000 - val_mean_squared_error: 3701034754175401984.0000\n",
      "Epoch 92/100\n",
      "175/175 [==============================] - 4s 23ms/step - loss: 338269644521472.0000 - mean_squared_error: 338269644521472.0000 - val_loss: 3293956791787847680.0000 - val_mean_squared_error: 3293956791787847680.0000\n",
      "Epoch 93/100\n",
      "175/175 [==============================] - 4s 23ms/step - loss: 347967345131520.0000 - mean_squared_error: 347967345131520.0000 - val_loss: 1229742595333160960.0000 - val_mean_squared_error: 1229742595333160960.0000\n",
      "Epoch 94/100\n",
      "175/175 [==============================] - 4s 23ms/step - loss: 351985991680000.0000 - mean_squared_error: 351985991680000.0000 - val_loss: 3958247357551738880.0000 - val_mean_squared_error: 3958247357551738880.0000\n",
      "Epoch 95/100\n",
      "175/175 [==============================] - 4s 23ms/step - loss: 338929995743232.0000 - mean_squared_error: 338929995743232.0000 - val_loss: 1353068492428935168.0000 - val_mean_squared_error: 1353068492428935168.0000\n",
      "Epoch 96/100\n",
      "175/175 [==============================] - 4s 23ms/step - loss: 339982833156096.0000 - mean_squared_error: 339982833156096.0000 - val_loss: 1973478236323053568.0000 - val_mean_squared_error: 1973478236323053568.0000\n",
      "Epoch 97/100\n",
      "175/175 [==============================] - 4s 23ms/step - loss: 351549012312064.0000 - mean_squared_error: 351549012312064.0000 - val_loss: 1640650981353979904.0000 - val_mean_squared_error: 1640650981353979904.0000\n",
      "Epoch 98/100\n",
      "175/175 [==============================] - 4s 23ms/step - loss: 355417737658368.0000 - mean_squared_error: 355417737658368.0000 - val_loss: 3258890067443187712.0000 - val_mean_squared_error: 3258890067443187712.0000\n",
      "Epoch 99/100\n",
      "175/175 [==============================] - 4s 23ms/step - loss: 331857526784000.0000 - mean_squared_error: 331857526784000.0000 - val_loss: 13319223274622681088.0000 - val_mean_squared_error: 13319223274622681088.0000\n",
      "Epoch 100/100\n",
      "175/175 [==============================] - 4s 23ms/step - loss: 352861963681792.0000 - mean_squared_error: 352861963681792.0000 - val_loss: 12353236338923798528.0000 - val_mean_squared_error: 12353236338923798528.0000\n"
     ]
    },
    {
     "data": {
      "text/plain": [
       "<keras.callbacks.History at 0x21102fbf520>"
      ]
     },
     "execution_count": 110,
     "metadata": {},
     "output_type": "execute_result"
    }
   ],
   "source": [
    "model.compile(optimizer='adam',loss='mean_squared_error',metrics='mean_squared_error')\n",
    "model.fit(x_sc,y,batch_size=16,epochs=100, validation_split=0.2)"
   ]
  },
  {
   "cell_type": "code",
   "execution_count": 111,
   "id": "aed40865-778d-4237-ba7d-b360acab92f1",
   "metadata": {},
   "outputs": [
    {
     "name": "stdout",
     "output_type": "stream",
     "text": [
      "16/16 [==============================] - 1s 8ms/step\n"
     ]
    }
   ],
   "source": [
    "y_test = model.predict(x_test)\n",
    "y_test_list = []\n",
    "for i in y_test:\n",
    "    y_test_list.append(i)"
   ]
  },
  {
   "cell_type": "code",
   "execution_count": 112,
   "id": "5c3b892e-b54e-4cf4-9c9f-db9433fdc04a",
   "metadata": {},
   "outputs": [],
   "source": [
    "d = pd.DataFrame({'Registration Number':test['Registration Number'].values,'Annual Turnover':y_test_list})"
   ]
  },
  {
   "cell_type": "code",
   "execution_count": 113,
   "id": "6ea81934-39b0-4510-9d16-73ac64f4b96b",
   "metadata": {},
   "outputs": [],
   "source": [
    "d.to_csv('submission.csv',index=False)"
   ]
  },
  {
   "cell_type": "code",
   "execution_count": null,
   "id": "88f8216b-d58c-4c45-90a7-c28e7aedd49f",
   "metadata": {},
   "outputs": [],
   "source": []
  }
 ],
 "metadata": {
  "kernelspec": {
   "display_name": "Python 3 (ipykernel)",
   "language": "python",
   "name": "python3"
  },
  "language_info": {
   "codemirror_mode": {
    "name": "ipython",
    "version": 3
   },
   "file_extension": ".py",
   "mimetype": "text/x-python",
   "name": "python",
   "nbconvert_exporter": "python",
   "pygments_lexer": "ipython3",
   "version": "3.8.18"
  }
 },
 "nbformat": 4,
 "nbformat_minor": 5
}
